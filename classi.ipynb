{
 "cells": [
  {
   "cell_type": "code",
   "execution_count": null,
   "metadata": {
    "collapsed": true
   },
   "outputs": [],
   "source": [
    "import pandas as pd\n",
    "\n",
    "data = pd.read_csv(r'E:\\Programming\\Projects\\Python\\JSP\\classify2.csv')"
   ]
  },
  {
   "cell_type": "code",
   "execution_count": 4,
   "metadata": {
    "collapsed": false
   },
   "outputs": [],
   "source": [
    "X = data[['fixed acidity', 'volatile acidity', 'citric acid', 'residual sugar',\n",
    "          'chlorides', 'free sulfur dioxide', 'total sulfur dioxide', 'density',\n",
    "          'pH', 'sulphates']]\n",
    "\n",
    "# X = data.iloc[:, [0,1,2,3,4,5,6,7,8,9]].values\n",
    "y = data.iloc[:, 11]"
   ]
  },
  {
   "cell_type": "code",
   "execution_count": 7,
   "metadata": {
    "collapsed": true
   },
   "outputs": [],
   "source": [
    "from sklearn.model_selection import train_test_split\n",
    "\n",
    "X_train, X_test = train_test_split(X, test_size=0.2, random_state=10)\n",
    "y_train, y_test = train_test_split(y, test_size=0.2, random_state=10)\n",
    "\n",
    "y_train.loc[(y_train[:]) <= 5] = 0\n",
    "y_train.loc[(y_train[:]) > 5] = 1"
   ]
  },
  {
   "cell_type": "code",
   "execution_count": 8,
   "metadata": {
    "collapsed": true
   },
   "outputs": [
    {
     "data": {
      "text/plain": [
       "SVC(C=1.0, cache_size=200, class_weight=None, coef0=0.0,\n    decision_function_shape='ovr', degree=3, gamma='scale', kernel='rbf',\n    max_iter=-1, probability=False, random_state=None, shrinking=True,\n    tol=0.001, verbose=False)"
      ]
     },
     "execution_count": 8,
     "metadata": {},
     "output_type": "execute_result"
    }
   ],
   "source": [
    "from sklearn import svm\n",
    "\n",
    "\n",
    "var = svm.SVC(gamma='scale')\n",
    "var.fit(X_train, y_train.ravel())\n",
    "svm.SVC(C=1.0, cache_size=200, class_weight=None, coef0=0.0,\n",
    "        decision_function_shape='ovr', degree=3, gamma='scale', kernel='rbf',\n",
    "        max_iter=-1, probability=False, random_state=None, shrinking=True,\n",
    "        tol=0.001, verbose=False)\n"
   ]
  },
  {
   "cell_type": "code",
   "execution_count": 9,
   "metadata": {
    "collapsed": true
   },
   "outputs": [
    {
     "ename": "ValueError",
     "evalue": "Expected 2D array, got 1D array instead:\narray=[5. 5. 6. 6. 5. 6. 7. 6. 5. 5. 7. 4. 5. 5. 6. 5. 6. 6. 6. 5. 5. 6. 5. 5.\n 5. 5. 5. 6. 6. 6. 5. 5. 7. 8. 5. 5. 8. 6. 6. 6. 6. 7. 5. 7. 5. 7. 6. 7.\n 6. 5. 6. 7. 6. 6. 6. 6. 6. 5. 5. 5. 5. 5. 7. 6. 6. 5. 6. 6. 5. 6. 6. 5.\n 5. 6. 6. 5. 5. 7. 5. 7. 7. 5. 6. 5. 6. 4. 4. 5. 5. 5. 6. 5. 7. 6. 5. 4.\n 5. 4. 5. 6. 7. 5. 6. 6. 6. 5. 5. 6. 6. 5. 5. 6. 7. 5. 5. 5. 5. 5. 8. 5.\n 5. 5. 6. 5. 5. 6. 5. 5. 6. 5. 6. 5. 6. 6. 5. 6. 6. 5. 5. 5. 6. 6. 6. 6.\n 5. 6. 6. 5. 6. 6. 5. 6. 7. 7. 6. 4. 5. 5. 7. 8. 6. 7. 6. 5. 5. 6. 8. 7.\n 6. 5. 5. 7. 6. 8. 5. 5. 5. 5. 5. 6. 7. 5. 6. 6. 5. 5. 6. 7. 5. 5. 5. 4.\n 6. 7. 6. 5. 7. 5. 6. 6. 6. 6. 6. 6. 5. 6. 5. 5. 4. 8. 5. 5. 5. 5. 5. 6.\n 6. 5. 6. 5. 5. 7. 6. 5. 7. 5. 6. 5. 5. 5. 3. 6. 6. 6. 5. 6. 6. 5. 5. 5.\n 6. 5. 6. 6. 6. 5. 6. 6. 7. 7. 5. 6. 5. 5. 6. 6. 7. 7. 7. 6. 5. 5. 6. 6.\n 6. 6. 6. 6. 6. 6. 5. 7. 6. 6. 5. 6. 5. 5. 6. 5. 7. 7. 6. 6. 3. 4. 5. 6.\n 5. 6. 6. 5. 6. 6. 5. 5. 6. 7. 6. 6. 6. 8. 7. 7. 6. 7. 5. 6. 5. 5. 5. 6.\n 6. 5. 6. 7. 7. 7. 5. 5.].\nReshape your data either using array.reshape(-1, 1) if your data has a single feature or array.reshape(1, -1) if it contains a single sample.",
     "traceback": [
      "\u001b[1;31m---------------------------------------------------------------------------\u001b[0m",
      "\u001b[1;31mValueError\u001b[0m                                Traceback (most recent call last)",
      "\u001b[1;32m<ipython-input-9-2d6544514303>\u001b[0m in \u001b[0;36m<module>\u001b[1;34m\u001b[0m\n\u001b[1;32m----> 1\u001b[1;33m \u001b[0mvar\u001b[0m\u001b[1;33m.\u001b[0m\u001b[0mpredict\u001b[0m\u001b[1;33m(\u001b[0m\u001b[0my_test\u001b[0m\u001b[1;33m)\u001b[0m\u001b[1;33m\u001b[0m\u001b[1;33m\u001b[0m\u001b[0m\n\u001b[0m",
      "\u001b[1;32mE:\\Programming\\Anaconda\\envs\\JSP\\lib\\site-packages\\sklearn\\svm\\base.py\u001b[0m in \u001b[0;36mpredict\u001b[1;34m(self, X)\u001b[0m\n\u001b[0;32m    572\u001b[0m             \u001b[0mClass\u001b[0m \u001b[0mlabels\u001b[0m \u001b[1;32mfor\u001b[0m \u001b[0msamples\u001b[0m \u001b[1;32min\u001b[0m \u001b[0mX\u001b[0m\u001b[1;33m.\u001b[0m\u001b[1;33m\u001b[0m\u001b[1;33m\u001b[0m\u001b[0m\n\u001b[0;32m    573\u001b[0m         \"\"\"\n\u001b[1;32m--> 574\u001b[1;33m         \u001b[0my\u001b[0m \u001b[1;33m=\u001b[0m \u001b[0msuper\u001b[0m\u001b[1;33m(\u001b[0m\u001b[1;33m)\u001b[0m\u001b[1;33m.\u001b[0m\u001b[0mpredict\u001b[0m\u001b[1;33m(\u001b[0m\u001b[0mX\u001b[0m\u001b[1;33m)\u001b[0m\u001b[1;33m\u001b[0m\u001b[1;33m\u001b[0m\u001b[0m\n\u001b[0m\u001b[0;32m    575\u001b[0m         \u001b[1;32mreturn\u001b[0m \u001b[0mself\u001b[0m\u001b[1;33m.\u001b[0m\u001b[0mclasses_\u001b[0m\u001b[1;33m.\u001b[0m\u001b[0mtake\u001b[0m\u001b[1;33m(\u001b[0m\u001b[0mnp\u001b[0m\u001b[1;33m.\u001b[0m\u001b[0masarray\u001b[0m\u001b[1;33m(\u001b[0m\u001b[0my\u001b[0m\u001b[1;33m,\u001b[0m \u001b[0mdtype\u001b[0m\u001b[1;33m=\u001b[0m\u001b[0mnp\u001b[0m\u001b[1;33m.\u001b[0m\u001b[0mintp\u001b[0m\u001b[1;33m)\u001b[0m\u001b[1;33m)\u001b[0m\u001b[1;33m\u001b[0m\u001b[1;33m\u001b[0m\u001b[0m\n\u001b[0;32m    576\u001b[0m \u001b[1;33m\u001b[0m\u001b[0m\n",
      "\u001b[1;32mE:\\Programming\\Anaconda\\envs\\JSP\\lib\\site-packages\\sklearn\\svm\\base.py\u001b[0m in \u001b[0;36mpredict\u001b[1;34m(self, X)\u001b[0m\n\u001b[0;32m    320\u001b[0m         \u001b[0my_pred\u001b[0m \u001b[1;33m:\u001b[0m \u001b[0marray\u001b[0m\u001b[1;33m,\u001b[0m \u001b[0mshape\u001b[0m \u001b[1;33m(\u001b[0m\u001b[0mn_samples\u001b[0m\u001b[1;33m,\u001b[0m\u001b[1;33m)\u001b[0m\u001b[1;33m\u001b[0m\u001b[1;33m\u001b[0m\u001b[0m\n\u001b[0;32m    321\u001b[0m         \"\"\"\n\u001b[1;32m--> 322\u001b[1;33m         \u001b[0mX\u001b[0m \u001b[1;33m=\u001b[0m \u001b[0mself\u001b[0m\u001b[1;33m.\u001b[0m\u001b[0m_validate_for_predict\u001b[0m\u001b[1;33m(\u001b[0m\u001b[0mX\u001b[0m\u001b[1;33m)\u001b[0m\u001b[1;33m\u001b[0m\u001b[1;33m\u001b[0m\u001b[0m\n\u001b[0m\u001b[0;32m    323\u001b[0m         \u001b[0mpredict\u001b[0m \u001b[1;33m=\u001b[0m \u001b[0mself\u001b[0m\u001b[1;33m.\u001b[0m\u001b[0m_sparse_predict\u001b[0m \u001b[1;32mif\u001b[0m \u001b[0mself\u001b[0m\u001b[1;33m.\u001b[0m\u001b[0m_sparse\u001b[0m \u001b[1;32melse\u001b[0m \u001b[0mself\u001b[0m\u001b[1;33m.\u001b[0m\u001b[0m_dense_predict\u001b[0m\u001b[1;33m\u001b[0m\u001b[1;33m\u001b[0m\u001b[0m\n\u001b[0;32m    324\u001b[0m         \u001b[1;32mreturn\u001b[0m \u001b[0mpredict\u001b[0m\u001b[1;33m(\u001b[0m\u001b[0mX\u001b[0m\u001b[1;33m)\u001b[0m\u001b[1;33m\u001b[0m\u001b[1;33m\u001b[0m\u001b[0m\n",
      "\u001b[1;32mE:\\Programming\\Anaconda\\envs\\JSP\\lib\\site-packages\\sklearn\\svm\\base.py\u001b[0m in \u001b[0;36m_validate_for_predict\u001b[1;34m(self, X)\u001b[0m\n\u001b[0;32m    452\u001b[0m \u001b[1;33m\u001b[0m\u001b[0m\n\u001b[0;32m    453\u001b[0m         X = check_array(X, accept_sparse='csr', dtype=np.float64, order=\"C\",\n\u001b[1;32m--> 454\u001b[1;33m                         accept_large_sparse=False)\n\u001b[0m\u001b[0;32m    455\u001b[0m         \u001b[1;32mif\u001b[0m \u001b[0mself\u001b[0m\u001b[1;33m.\u001b[0m\u001b[0m_sparse\u001b[0m \u001b[1;32mand\u001b[0m \u001b[1;32mnot\u001b[0m \u001b[0msp\u001b[0m\u001b[1;33m.\u001b[0m\u001b[0misspmatrix\u001b[0m\u001b[1;33m(\u001b[0m\u001b[0mX\u001b[0m\u001b[1;33m)\u001b[0m\u001b[1;33m:\u001b[0m\u001b[1;33m\u001b[0m\u001b[1;33m\u001b[0m\u001b[0m\n\u001b[0;32m    456\u001b[0m             \u001b[0mX\u001b[0m \u001b[1;33m=\u001b[0m \u001b[0msp\u001b[0m\u001b[1;33m.\u001b[0m\u001b[0mcsr_matrix\u001b[0m\u001b[1;33m(\u001b[0m\u001b[0mX\u001b[0m\u001b[1;33m)\u001b[0m\u001b[1;33m\u001b[0m\u001b[1;33m\u001b[0m\u001b[0m\n",
      "\u001b[1;32mE:\\Programming\\Anaconda\\envs\\JSP\\lib\\site-packages\\sklearn\\utils\\validation.py\u001b[0m in \u001b[0;36mcheck_array\u001b[1;34m(array, accept_sparse, accept_large_sparse, dtype, order, copy, force_all_finite, ensure_2d, allow_nd, ensure_min_samples, ensure_min_features, warn_on_dtype, estimator)\u001b[0m\n\u001b[0;32m    519\u001b[0m                     \u001b[1;34m\"Reshape your data either using array.reshape(-1, 1) if \"\u001b[0m\u001b[1;33m\u001b[0m\u001b[1;33m\u001b[0m\u001b[0m\n\u001b[0;32m    520\u001b[0m                     \u001b[1;34m\"your data has a single feature or array.reshape(1, -1) \"\u001b[0m\u001b[1;33m\u001b[0m\u001b[1;33m\u001b[0m\u001b[0m\n\u001b[1;32m--> 521\u001b[1;33m                     \"if it contains a single sample.\".format(array))\n\u001b[0m\u001b[0;32m    522\u001b[0m \u001b[1;33m\u001b[0m\u001b[0m\n\u001b[0;32m    523\u001b[0m         \u001b[1;31m# in the future np.flexible dtypes will be handled like object dtypes\u001b[0m\u001b[1;33m\u001b[0m\u001b[1;33m\u001b[0m\u001b[1;33m\u001b[0m\u001b[0m\n",
      "\u001b[1;31mValueError\u001b[0m: Expected 2D array, got 1D array instead:\narray=[5. 5. 6. 6. 5. 6. 7. 6. 5. 5. 7. 4. 5. 5. 6. 5. 6. 6. 6. 5. 5. 6. 5. 5.\n 5. 5. 5. 6. 6. 6. 5. 5. 7. 8. 5. 5. 8. 6. 6. 6. 6. 7. 5. 7. 5. 7. 6. 7.\n 6. 5. 6. 7. 6. 6. 6. 6. 6. 5. 5. 5. 5. 5. 7. 6. 6. 5. 6. 6. 5. 6. 6. 5.\n 5. 6. 6. 5. 5. 7. 5. 7. 7. 5. 6. 5. 6. 4. 4. 5. 5. 5. 6. 5. 7. 6. 5. 4.\n 5. 4. 5. 6. 7. 5. 6. 6. 6. 5. 5. 6. 6. 5. 5. 6. 7. 5. 5. 5. 5. 5. 8. 5.\n 5. 5. 6. 5. 5. 6. 5. 5. 6. 5. 6. 5. 6. 6. 5. 6. 6. 5. 5. 5. 6. 6. 6. 6.\n 5. 6. 6. 5. 6. 6. 5. 6. 7. 7. 6. 4. 5. 5. 7. 8. 6. 7. 6. 5. 5. 6. 8. 7.\n 6. 5. 5. 7. 6. 8. 5. 5. 5. 5. 5. 6. 7. 5. 6. 6. 5. 5. 6. 7. 5. 5. 5. 4.\n 6. 7. 6. 5. 7. 5. 6. 6. 6. 6. 6. 6. 5. 6. 5. 5. 4. 8. 5. 5. 5. 5. 5. 6.\n 6. 5. 6. 5. 5. 7. 6. 5. 7. 5. 6. 5. 5. 5. 3. 6. 6. 6. 5. 6. 6. 5. 5. 5.\n 6. 5. 6. 6. 6. 5. 6. 6. 7. 7. 5. 6. 5. 5. 6. 6. 7. 7. 7. 6. 5. 5. 6. 6.\n 6. 6. 6. 6. 6. 6. 5. 7. 6. 6. 5. 6. 5. 5. 6. 5. 7. 7. 6. 6. 3. 4. 5. 6.\n 5. 6. 6. 5. 6. 6. 5. 5. 6. 7. 6. 6. 6. 8. 7. 7. 6. 7. 5. 6. 5. 5. 5. 6.\n 6. 5. 6. 7. 7. 7. 5. 5.].\nReshape your data either using array.reshape(-1, 1) if your data has a single feature or array.reshape(1, -1) if it contains a single sample."
     ],
     "output_type": "error"
    }
   ],
   "source": [
    "var.predict(y_test)"
   ]
  },
  {
   "cell_type": "code",
   "execution_count": 42,
   "metadata": {},
   "outputs": [],
   "source": [
    ""
   ]
  },
  {
   "cell_type": "code",
   "execution_count": null,
   "metadata": {},
   "outputs": [],
   "source": []
  }
 ],
 "metadata": {
  "kernelspec": {
   "display_name": "Python 2",
   "language": "python",
   "name": "python2"
  },
  "language_info": {
   "codemirror_mode": {
    "name": "ipython",
    "version": 2
   },
   "file_extension": ".py",
   "mimetype": "text/x-python",
   "name": "python",
   "nbconvert_exporter": "python",
   "pygments_lexer": "ipython2",
   "version": "2.7.6"
  }
 },
 "nbformat": 4,
 "nbformat_minor": 0
}
