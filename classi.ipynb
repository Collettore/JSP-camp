{
 "cells": [
  {
   "cell_type": "code",
   "execution_count": 126,
   "metadata": {
    "collapsed": true
   },
   "outputs": [],
   "source": [
    "import pandas as pd\n",
    "\n",
    "data = pd.read_csv(r'E:\\Programming\\Projects\\Python\\JSP\\classify2.csv')"
   ]
  },
  {
   "cell_type": "code",
   "execution_count": 127,
   "metadata": {
    "collapsed": false
   },
   "outputs": [],
   "source": [
    "X = data[['fixed acidity', 'volatile acidity', 'citric acid', 'residual sugar',\n",
    "          'chlorides', 'free sulfur dioxide', 'total sulfur dioxide', 'density',\n",
    "          'pH', 'sulphates']]\n",
    "\n",
    "y = data['quality']\n"
   ]
  },
  {
   "cell_type": "code",
   "execution_count": 128,
   "metadata": {
    "collapsed": true
   },
   "outputs": [],
   "source": [
    "from sklearn.model_selection import train_test_split\n",
    "\n",
    "X_train, X_test = train_test_split(X, test_size=0.2, random_state=1)\n",
    "y_train, y_test = train_test_split(y, test_size=0.2, random_state=1)\n"
   ]
  },
  {
   "cell_type": "code",
   "execution_count": 129,
   "metadata": {
    "collapsed": true
   },
   "outputs": [
    {
     "data": {
      "text/plain": [
       "SVC(C=1.0, cache_size=200, class_weight=None, coef0=0.0,\n    decision_function_shape='ovr', degree=3, gamma='scale', kernel='rbf',\n    max_iter=-1, probability=False, random_state=None, shrinking=True,\n    tol=0.001, verbose=False)"
      ]
     },
     "execution_count": 129,
     "metadata": {},
     "output_type": "execute_result"
    }
   ],
   "source": [
    "from sklearn import svm\n",
    "\n",
    "var = svm.SVC(gamma='scale')\n",
    "var.fit(X_train.values, y_train.values)\n",
    "svm.SVC(C=1.0, cache_size=200, class_weight=None, coef0=0.0,\n",
    "        decision_function_shape='ovr', degree=3, gamma='scale', kernel='rbf',\n",
    "        max_iter=-1, probability=False, random_state=None, shrinking=True,\n",
    "        tol=0.001, verbose=False)\n"
   ]
  },
  {
   "cell_type": "code",
   "execution_count": 130,
   "metadata": {
    "collapsed": true
   },
   "outputs": [],
   "source": [
    "import numpy as np\n",
    "\n",
    "quality_prediction = var.predict(X_test)\n"
   ]
  },
  {
   "cell_type": "code",
   "execution_count": 131,
   "metadata": {},
   "outputs": [
    {
     "name": "stdout",
     "output_type": "stream",
     "text": [
      "['Good' 'Bad' 'Good' 'Good' 'Good' 'Good' 'Good' 'Bad' 'Good' 'Good'\n 'Good' 'Good' 'Bad' 'Good' 'Good' 'Good' 'Good' 'Good' 'Good' 'Good'\n 'Good' 'Good' 'Good' 'Good' 'Bad' 'Good' 'Good' 'Bad' 'Good' 'Good'\n 'Good' 'Good' 'Bad' 'Good' 'Bad' 'Good' 'Good' 'Good' 'Good' 'Good'\n 'Good' 'Bad' 'Good' 'Good' 'Bad' 'Good' 'Bad' 'Good' 'Bad' 'Good' 'Bad'\n 'Good' 'Good' 'Bad' 'Good' 'Good' 'Good' 'Good' 'Good' 'Bad' 'Bad' 'Bad'\n 'Good' 'Bad' 'Bad' 'Good' 'Good' 'Bad' 'Good' 'Good' 'Bad' 'Good' 'Good'\n 'Good' 'Good' 'Good' 'Good' 'Good' 'Bad' 'Good' 'Good' 'Bad' 'Bad' 'Good'\n 'Good' 'Bad' 'Bad' 'Good' 'Good' 'Good' 'Bad' 'Good' 'Bad' 'Good' 'Good'\n 'Good' 'Good' 'Good' 'Good' 'Bad' 'Good' 'Good' 'Bad' 'Bad' 'Bad' 'Good'\n 'Good' 'Good' 'Good' 'Bad' 'Good' 'Good' 'Good' 'Good' 'Good' 'Good'\n 'Bad' 'Bad' 'Bad' 'Bad' 'Good' 'Good' 'Bad' 'Good' 'Good' 'Good' 'Good'\n 'Bad' 'Good' 'Good' 'Good' 'Bad' 'Good' 'Bad' 'Good' 'Good' 'Bad' 'Good'\n 'Good' 'Bad' 'Good' 'Good' 'Good' 'Good' 'Good' 'Good' 'Good' 'Bad'\n 'Good' 'Good' 'Good' 'Bad' 'Bad' 'Good' 'Good' 'Good' 'Good' 'Good'\n 'Good' 'Good' 'Good' 'Good' 'Good' 'Bad' 'Good' 'Good' 'Good' 'Bad' 'Bad'\n 'Good' 'Good' 'Bad' 'Bad' 'Good' 'Good' 'Good' 'Good' 'Bad' 'Bad' 'Good'\n 'Good' 'Good' 'Good' 'Bad' 'Good' 'Bad' 'Good' 'Bad' 'Good' 'Bad' 'Bad'\n 'Bad' 'Bad' 'Bad' 'Bad' 'Good' 'Good' 'Bad' 'Good' 'Good' 'Good' 'Good'\n 'Good' 'Bad' 'Good' 'Good' 'Good' 'Bad' 'Bad' 'Good' 'Bad' 'Good' 'Bad'\n 'Good' 'Bad' 'Bad' 'Good' 'Bad' 'Good' 'Good' 'Good' 'Good' 'Bad' 'Bad'\n 'Good' 'Good' 'Good' 'Good' 'Good' 'Good' 'Good' 'Good' 'Good' 'Good'\n 'Bad' 'Bad' 'Good' 'Bad' 'Good' 'Good' 'Good' 'Good' 'Bad' 'Good' 'Bad'\n 'Good' 'Bad' 'Bad' 'Good' 'Good' 'Bad' 'Good' 'Good' 'Good' 'Good' 'Bad'\n 'Bad' 'Bad' 'Bad' 'Good' 'Good' 'Good' 'Good' 'Good' 'Bad' 'Good' 'Good'\n 'Bad' 'Bad' 'Good' 'Good' 'Good' 'Bad' 'Good' 'Bad' 'Good' 'Good' 'Bad'\n 'Good' 'Bad' 'Good' 'Good' 'Good' 'Bad' 'Bad' 'Good' 'Good' 'Bad' 'Good'\n 'Good' 'Bad' 'Good' 'Good' 'Good' 'Good' 'Good' 'Bad' 'Good' 'Bad' 'Bad'\n 'Good' 'Good' 'Bad' 'Good' 'Good' 'Good' 'Bad' 'Good' 'Good' 'Bad' 'Good'\n 'Good' 'Good' 'Good' 'Good' 'Good' 'Bad' 'Good' 'Good' 'Good']\n"
     ]
    }
   ],
   "source": [
    "quality_prediction = np.where(quality_prediction > 5, 'Good', 'Bad')\n",
    "\n",
    "print(quality_prediction)\n"
   ]
  },
  {
   "cell_type": "code",
   "execution_count": null,
   "metadata": {},
   "outputs": [],
   "source": [
    "\n"
   ]
  }
 ],
 "metadata": {
  "kernelspec": {
   "display_name": "Python 2",
   "language": "python",
   "name": "python2"
  },
  "language_info": {
   "codemirror_mode": {
    "name": "ipython",
    "version": 2
   },
   "file_extension": ".py",
   "mimetype": "text/x-python",
   "name": "python",
   "nbconvert_exporter": "python",
   "pygments_lexer": "ipython2",
   "version": "2.7.6"
  }
 },
 "nbformat": 4,
 "nbformat_minor": 0
}
