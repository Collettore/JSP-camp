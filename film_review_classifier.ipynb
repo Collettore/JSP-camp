{
 "cells": [
  {
   "cell_type": "code",
   "execution_count": 1,
   "metadata": {},
   "outputs": [],
   "source": [
    "import pandas as pd\n",
    "\n",
    "data = pd.read_csv('film.csv')"
   ]
  },
  {
   "cell_type": "code",
   "execution_count": null,
   "metadata": {},
   "outputs": [],
   "source": [
    "from sklearn.model_selection import train_test_split\n",
    "from sklearn.feature_extraction.text import TfidfVectorizer\n",
    "import numpy as np\n",
    "\n",
    "vectorizer = TfidfVectorizer()\n",
    "\n",
    "X = data['review']\n",
    "X = vectorizer.fit_transform(X)\n",
    "\n",
    "y = data['sentiment']\n",
    "y.loc[y == 'Negative'] = 0\n",
    "y.loc[y == 'Positive'] = 1"
   ]
  },
  {
   "cell_type": "code",
   "execution_count": null,
   "metadata": {},
   "outputs": [],
   "source": [
    "X_train, X_test, y_train, y_test = train_test_split(X, y, test_size=0.2, random_state=1)"
   ]
  },
  {
   "cell_type": "code",
   "execution_count": 22,
   "metadata": {},
   "outputs": [],
   "source": [
    "from sklearn import preprocessing\n",
    "\n",
    "X_train = preprocessing.scale(X_train, with_mean=False)\n",
    "X_test = preprocessing.scale(X_test, with_mean=False)\n",
    "\n",
    "# 0.773\n",
    "# wth kbest 0.8886\n",
    "# with scale, normalize, kbest 0.892"
   ]
  },
  {
   "cell_type": "code",
   "execution_count": 23,
   "metadata": {},
   "outputs": [],
   "source": [
    "from sklearn import preprocessing\n",
    "\n",
    "X_train = preprocessing.normalize(X_train)\n",
    "X_test = preprocessing.normalize(X_test)\n",
    "\n",
    "# 0.86"
   ]
  },
  {
   "cell_type": "code",
   "execution_count": null,
   "metadata": {},
   "outputs": [],
   "source": [
    "from sklearn import preprocessing\n",
    "\n",
    "\n",
    "binarizer = preprocessing.Binarizer().fit(X)\n",
    "\n",
    "X_train = binarizer.transform(X_train)\n",
    "X_test = binarizer.transform(X_test)\n",
    "\n",
    "# 0.858"
   ]
  },
  {
   "cell_type": "code",
   "execution_count": null,
   "metadata": {},
   "outputs": [],
   "source": [
    "from sklearn.feature_selection import SelectKBest\n",
    "from sklearn.feature_selection import chi2\n",
    "\n",
    "k_array = [7000, 10000, 20000, 25000, 30000, 40000, 50000, 60000]\n",
    "k_accuracy = [0.8796, 0.8818, 0.8808,0.8806,0.8808,0.8798,0.8764,0.8730]\n",
    "\n",
    "i=1\n",
    "print(k_array[i])\n",
    "sel = SelectKBest(chi2, k_array[i])\n",
    "\n",
    "sel.fit(X, y)\n",
    "X_train = sel.transform(X_train)\n",
    "X_test = sel.transform(X_test)\n",
    "\n",
    "sel.scores_\n",
    "\n",
    "# 0.8818 k=10 000\n",
    "# 0.8808 k=20 000\n",
    "# 0.8808 k=30 000\n",
    "# 0.8798 k=40 000\n",
    "# 0.8764 k=50 000\n",
    "# 0.8730 k=60 000\n",
    "# 0.8806 k= 25000\n",
    "\n",
    "# with scale "
   ]
  },
  {
   "cell_type": "code",
   "execution_count": null,
   "metadata": {},
   "outputs": [],
   "source": [
    "import matplotlib.pyplot as plt\n",
    "\n",
    "plt.plot(k_array, k_accuracy)\n",
    "plt.show()"
   ]
  },
  {
   "cell_type": "code",
   "execution_count": 38,
   "metadata": {},
   "outputs": [
    {
     "name": "stdout",
     "output_type": "stream",
     "text": [
      "(20000, 10000)\n"
     ]
    },
    {
     "data": {
      "text/plain": [
       "(20000, 6273)"
      ]
     },
     "execution_count": 38,
     "metadata": {},
     "output_type": "execute_result"
    }
   ],
   "source": [
    "from sklearn.feature_selection import SelectFromModel\n",
    "from sklearn.naive_bayes import MultinomialNB\n",
    "\n",
    "m = SelectFromModel(MultinomialNB())\n",
    "m.fit(X_train, y_train)\n",
    "print(X_train.shape)\n",
    "X_train = m.transform(X_train)\n",
    "X_test = m.transform(X_test)\n",
    "\n",
    "X_train.shape\n",
    "\n",
    "\n",
    "# 0.678"
   ]
  },
  {
   "cell_type": "code",
   "execution_count": 27,
   "metadata": {},
   "outputs": [
    {
     "data": {
      "text/plain": [
       "MultinomialNB(alpha=1.0, class_prior=None, fit_prior=True)"
      ]
     },
     "execution_count": 27,
     "metadata": {},
     "output_type": "execute_result"
    }
   ],
   "source": [
    "from sklearn.naive_bayes import MultinomialNB\n",
    "\n",
    "# MultinomialNB - 0.86\n",
    "# KNeighborsClassifier - 0.76\n",
    "# DecisionTreeClassifier - 0.68\n",
    "# RandomForestClassifier - 0.50\n",
    "# AdaBoostClassifier - 0.7966\n",
    "# QuadraticDiscriminantAnalysis - memory error\n",
    "# GaussianNB - memory error\n",
    "\n",
    "clf = MultinomialNB()\n",
    "clf.fit(X_train, y_train)\n"
   ]
  },
  {
   "cell_type": "code",
   "execution_count": 28,
   "metadata": {},
   "outputs": [
    {
     "data": {
      "text/plain": [
       "0.8886"
      ]
     },
     "execution_count": 28,
     "metadata": {},
     "output_type": "execute_result"
    }
   ],
   "source": [
    "from sklearn.metrics import accuracy_score\n",
    "\n",
    "predicted = clf.predict(X_test)\n",
    "\n",
    "#accuracy - 0.86\n",
    "#with feature selection accuracy - 0.69\n",
    "accuracy_score(y_test, predicted)"
   ]
  },
  {
   "cell_type": "code",
   "execution_count": 29,
   "metadata": {},
   "outputs": [
    {
     "data": {
      "text/plain": [
       "array([1, 1, 1, ..., 1, 0, 0], dtype=int64)"
      ]
     },
     "execution_count": 29,
     "metadata": {},
     "output_type": "execute_result"
    }
   ],
   "source": [
    "predicted"
   ]
  },
  {
   "cell_type": "code",
   "execution_count": null,
   "metadata": {},
   "outputs": [],
   "source": []
  }
 ],
 "metadata": {
  "kernelspec": {
   "display_name": "Python 3",
   "language": "python",
   "name": "python3"
  },
  "language_info": {
   "codemirror_mode": {
    "name": "ipython",
    "version": 3
   },
   "file_extension": ".py",
   "mimetype": "text/x-python",
   "name": "python",
   "nbconvert_exporter": "python",
   "pygments_lexer": "ipython3",
   "version": "3.7.3"
  }
 },
 "nbformat": 4,
 "nbformat_minor": 1
}
