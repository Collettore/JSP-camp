{
 "cells": [
  {
   "cell_type": "code",
   "execution_count": 90,
   "metadata": {},
   "outputs": [],
   "source": [
    "import pandas as pd\n",
    "from sklearn import datasets, linear_model\n",
    "from sklearn.metrics import mean_squared_error, r2_score\n",
    "from sklearn import preprocessing\n",
    "\n",
    "# Load the diabetes dataset\n",
    "houses = pd.read_csv('data.csv')\n"
   ]
  },
  {
   "cell_type": "code",
   "execution_count": 91,
   "metadata": {},
   "outputs": [],
   "source": [
    "\n",
    "# data for testing and training\n",
    "houses_X = houses[['bedrooms', 'bathrooms', 'sqft_living', 'sqft_lot', 'floors', 'yr_built',  ]]\n",
    "\n",
    "# price of houses\n",
    "houses_Y = houses['price']\n"
   ]
  },
  {
   "cell_type": "code",
   "execution_count": 92,
   "metadata": {},
   "outputs": [],
   "source": [
    "from sklearn.model_selection import train_test_split\n",
    "\n",
    "# Split the data into training/testing sets\n",
    "houses_X_train, houses_X_test, houses_Y_train, houses_Y_test = train_test_split(houses_X, houses_Y,\n",
    "                                                                                test_size=0.2, random_state=1) \n"
   ]
  },
  {
   "cell_type": "code",
   "execution_count": 82,
   "metadata": {},
   "outputs": [],
   "source": [
    "houses_X_train = preprocessing.scale(houses_X_train)\n",
    "houses_X_test = preprocessing.scale(houses_X_test)"
   ]
  },
  {
   "cell_type": "code",
   "execution_count": 83,
   "metadata": {},
   "outputs": [],
   "source": [
    "houses_X_train = preprocessing.normalize(houses_X_train)\n",
    "houses_X_test = preprocessing.normalize(houses_X_test)"
   ]
  },
  {
   "cell_type": "code",
   "execution_count": 84,
   "metadata": {},
   "outputs": [],
   "source": [
    "\n",
    "# Create linear regression object\n",
    "regr = linear_model.LinearRegression()\n",
    "\n",
    "# Make predictions using the testing set\n",
    "regr.fit(houses_X_train, houses_Y_train)\n",
    "\n",
    "houses_pred = regr.predict(houses_X_test)\n"
   ]
  },
  {
   "cell_type": "code",
   "execution_count": 85,
   "metadata": {},
   "outputs": [
    {
     "name": "stdout",
     "output_type": "stream",
     "text": [
      "Coefficients: \n",
      " [ -96532.20942375  146582.72649034  539690.45127773   10807.7951821\n",
      "   30985.55411243 -193989.34479412]\n",
      "Mean squared error: 110971034658.84\n",
      "Variance score: 0.36\n"
     ]
    }
   ],
   "source": [
    "\n",
    "# The coefficients\n",
    "print('Coefficients: \\n', regr.coef_)\n",
    "\n",
    "# The mean squared error\n",
    "print(\"Mean squared error: %.2f\"\n",
    "      % mean_squared_error(houses_Y_test, houses_pred))\n",
    "\n",
    "# Explained variance score: 1 is perfect prediction\n",
    "print('Variance score: %.2f' % r2_score(houses_Y_test, houses_pred))\n"
   ]
  },
  {
   "cell_type": "code",
   "execution_count": 86,
   "metadata": {},
   "outputs": [],
   "source": [
    "import statsmodels.api as sm\n",
    "\n",
    "houses_X_train = sm.add_constant(houses_X_train)\n",
    "houses_X_test = sm.add_constant(houses_X_test)\n",
    "\n",
    "est = sm.OLS(houses_Y_train, houses_X_train)\n",
    "est = est.fit()"
   ]
  },
  {
   "cell_type": "code",
   "execution_count": 87,
   "metadata": {},
   "outputs": [
    {
     "name": "stdout",
     "output_type": "stream",
     "text": [
      "                            OLS Regression Results                            \n",
      "==============================================================================\n",
      "Dep. Variable:                  price   R-squared:                       0.413\n",
      "Model:                            OLS   Adj. R-squared:                  0.413\n",
      "Method:                 Least Squares   F-statistic:                     2026.\n",
      "Date:                Wed, 21 Aug 2019   Prob (F-statistic):               0.00\n",
      "Time:                        13:43:16   Log-Likelihood:            -2.4084e+05\n",
      "No. Observations:               17290   AIC:                         4.817e+05\n",
      "Df Residuals:                   17283   BIC:                         4.818e+05\n",
      "Df Model:                           6                                         \n",
      "Covariance Type:            nonrobust                                         \n",
      "==============================================================================\n",
      "                 coef    std err          t      P>|t|      [0.025      0.975]\n",
      "------------------------------------------------------------------------------\n",
      "const       5.641e+05   2133.234    264.411      0.000     5.6e+05    5.68e+05\n",
      "x1         -9.653e+04   5947.758    -16.230      0.000   -1.08e+05   -8.49e+04\n",
      "x2          1.466e+05   7628.826     19.214      0.000    1.32e+05    1.62e+05\n",
      "x3          5.397e+05   7629.987     70.733      0.000    5.25e+05    5.55e+05\n",
      "x4          1.081e+04   1.14e+04      0.949      0.343   -1.15e+04    3.31e+04\n",
      "x5          3.099e+04   4756.927      6.514      0.000    2.17e+04    4.03e+04\n",
      "x6          -1.94e+05   5551.227    -34.945      0.000   -2.05e+05   -1.83e+05\n",
      "==============================================================================\n",
      "Omnibus:                    14066.226   Durbin-Watson:                   2.000\n",
      "Prob(Omnibus):                  0.000   Jarque-Bera (JB):           731478.308\n",
      "Skew:                           3.547   Prob(JB):                         0.00\n",
      "Kurtosis:                      34.065   Cond. No.                         5.74\n",
      "==============================================================================\n",
      "\n",
      "Warnings:\n",
      "[1] Standard Errors assume that the covariance matrix of the errors is correctly specified.\n"
     ]
    }
   ],
   "source": [
    "print(est.summary())"
   ]
  },
  {
   "cell_type": "code",
   "execution_count": 88,
   "metadata": {},
   "outputs": [],
   "source": [
    "houses_pred_sm = est.predict(houses_X_test)"
   ]
  },
  {
   "cell_type": "code",
   "execution_count": 89,
   "metadata": {},
   "outputs": [
    {
     "name": "stdout",
     "output_type": "stream",
     "text": [
      "Variance score: 0.36\n"
     ]
    }
   ],
   "source": [
    "print('Variance score: %.2f' % r2_score(houses_Y_test, houses_pred_sm))"
   ]
  }
 ],
 "metadata": {
  "kernelspec": {
   "display_name": "Python 3",
   "language": "python",
   "name": "python3"
  },
  "language_info": {
   "codemirror_mode": {
    "name": "ipython",
    "version": 3
   },
   "file_extension": ".py",
   "mimetype": "text/x-python",
   "name": "python",
   "nbconvert_exporter": "python",
   "pygments_lexer": "ipython3",
   "version": "3.7.3"
  }
 },
 "nbformat": 4,
 "nbformat_minor": 1
}
