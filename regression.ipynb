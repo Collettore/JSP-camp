{
 "cells": [
  {
   "cell_type": "code",
   "execution_count": 1,
   "metadata": {
    "collapsed": false
   },
   "outputs": [],
   "source": [
    "import matplotlib.pyplot as plt\n",
    "import numpy as np\n",
    "import pandas as pd\n",
    "from sklearn import datasets, linear_model\n",
    "from sklearn.metrics import mean_squared_error, r2_score\n",
    "\n",
    "# Load the diabetes dataset\n",
    "houses = pd.read_csv(r'E:\\Programming\\Projects\\Python\\JSP\\data.csv')\n"
   ]
  },
  {
   "cell_type": "code",
   "execution_count": 4,
   "metadata": {
    "collapsed": false
   },
   "outputs": [
    {
     "name": "stdout",
     "output_type": "stream",
     "text": [
      "Coefficients: \n [-6.36332391e+04  6.17321441e+04  2.96775829e+02 -2.57684121e-01\n  5.74264173e+04 -3.28325590e+03]\nMean squared error: 74938084308.74\nVariance score: 0.57\n"
     ]
    }
   ],
   "source": [
    "\n",
    "# data for testing and training\n",
    "houses_X = houses[['bedrooms', 'bathrooms', 'sqft_living', 'sqft_lot', 'floors', 'yr_built',  ]]\n",
    "\n",
    "# price of houses\n",
    "houses_Y = houses['price']\n"
   ]
  },
  {
   "cell_type": "code",
   "execution_count": 5,
   "metadata": {
    "collapsed": false
   },
   "outputs": [
    {
     "name": "stdout",
     "output_type": "stream",
     "text": [
      "Coefficients: \n [-6.36332391e+04  6.17321441e+04  2.96775829e+02 -2.57684121e-01\n  5.74264173e+04 -3.28325590e+03]\nMean squared error: 74938084308.74\nVariance score: 0.57\n"
     ]
    }
   ],
   "source": [
    "from sklearn.model_selection import train_test_split\n",
    "\n",
    "# Split the data into training/testing sets\n",
    "houses_X_train, houses_X_test = train_test_split(houses_X, test_size=0.2, random_state=1) \n",
    "\n",
    "# Split the targets into training/testing sets\n",
    "houses_Y_train, houses_Y_test = train_test_split(houses_Y, test_size=0.2, random_state=1)\n"
   ]
  },
  {
   "cell_type": "code",
   "execution_count": 6,
   "metadata": {
    "collapsed": false
   },
   "outputs": [
    {
     "name": "stdout",
     "output_type": "stream",
     "text": [
      "Coefficients: \n [-6.36332391e+04  6.17321441e+04  2.96775829e+02 -2.57684121e-01\n  5.74264173e+04 -3.28325590e+03]\nMean squared error: 74938084308.74\nVariance score: 0.57\n"
     ]
    }
   ],
   "source": [
    "\n",
    "# Create linear regression object\n",
    "regr = linear_model.LinearRegression()\n",
    "\n",
    "# Make predictions using the testing set\n",
    "regr.fit(houses_X_train, houses_Y_train)\n",
    "\n",
    "houses_pred = regr.predict(houses_X_test)\n"
   ]
  },
  {
   "cell_type": "code",
   "execution_count": 7,
   "metadata": {
    "collapsed": false
   },
   "outputs": [
    {
     "name": "stdout",
     "output_type": "stream",
     "text": [
      "Coefficients: \n [-6.36332391e+04  6.17321441e+04  2.96775829e+02 -2.57684121e-01\n  5.74264173e+04 -3.28325590e+03]\nMean squared error: 74938084308.74\nVariance score: 0.57\n"
     ]
    }
   ],
   "source": [
    "\n",
    "# The coefficients\n",
    "print('Coefficients: \\n', regr.coef_)\n",
    "\n",
    "# The mean squared error\n",
    "print(\"Mean squared error: %.2f\"\n",
    "      % mean_squared_error(houses_Y_test, houses_pred))\n",
    "\n",
    "# Explained variance score: 1 is perfect prediction\n",
    "print('Variance score: %.2f' % r2_score(houses_Y_test, houses_pred))\n"
   ]
  },
  {
   "cell_type": "markdown",
   "metadata": {},
   "source": [
    "import statsmodels.api as sm\n",
    "\n",
    "X = houses_X_train\n",
    "y = houses_Y_train\n",
    "print(X)\n",
    "print(y)\n",
    "# X = sm.add_constant(X)\n",
    "est = sm.OLS(y, X)\n",
    "est2 = est.fit()\n",
    "print(est2.summary())"
   ]
  },
  {
   "cell_type": "code",
   "execution_count": null,
   "metadata": {},
   "outputs": [],
   "source": [
    "\n",
    "import statsmodels.api as sm\n",
    "\n",
    "X = houses_X_train\n",
    "y = houses_Y_train\n",
    "\n",
    "#X = sm.add_constant(X)\n",
    "est = sm.OLS(y, X)\n",
    "est2 = est.fit()\n",
    "print(est2.summary())"
   ]
  },
  {
   "cell_type": "code",
   "execution_count": null,
   "metadata": {},
   "outputs": [],
   "source": []
  }
 ],
 "metadata": {
  "kernelspec": {
   "display_name": "Python 2",
   "language": "python",
   "name": "python2"
  },
  "language_info": {
   "codemirror_mode": {
    "name": "ipython",
    "version": 2
   },
   "file_extension": ".py",
   "mimetype": "text/x-python",
   "name": "python",
   "nbconvert_exporter": "python",
   "pygments_lexer": "ipython2",
   "version": "2.7.6"
  }
 },
 "nbformat": 4,
 "nbformat_minor": 0
}
