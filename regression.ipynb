{
 "cells": [
  {
   "cell_type": "code",
   "execution_count": 4,
   "metadata": {},
   "outputs": [],
   "source": [
    "import matplotlib.pyplot as plt\n",
    "import numpy as np\n",
    "import pandas as pd\n",
    "from sklearn import datasets, linear_model\n",
    "from sklearn.metrics import mean_squared_error, r2_score\n",
    "\n",
    "# Load the diabetes dataset\n",
    "houses = pd.read_csv('data.csv')\n"
   ]
  },
  {
   "cell_type": "code",
   "execution_count": 5,
   "metadata": {},
   "outputs": [],
   "source": [
    "\n",
    "# data for testing and training\n",
    "houses_X = houses[['bedrooms', 'bathrooms', 'sqft_living', 'sqft_lot', 'floors', 'yr_built',  ]]\n",
    "\n",
    "# price of houses\n",
    "houses_Y = houses['price']\n"
   ]
  },
  {
   "cell_type": "code",
   "execution_count": 6,
   "metadata": {},
   "outputs": [],
   "source": [
    "from sklearn.model_selection import train_test_split\n",
    "\n",
    "# Split the data into training/testing sets\n",
    "houses_X_train, houses_X_test, houses_Y_train, houses_Y_test = train_test_split(houses_X, houses_Y,\n",
    "                                                                                test_size=0.2, random_state=1) \n",
    "\n"
   ]
  },
  {
   "cell_type": "code",
   "execution_count": 7,
   "metadata": {},
   "outputs": [],
   "source": [
    "\n",
    "# Create linear regression object\n",
    "regr = linear_model.LinearRegression()\n",
    "\n",
    "# Make predictions using the testing set\n",
    "regr.fit(houses_X_train, houses_Y_train)\n",
    "\n",
    "houses_pred = regr.predict(houses_X_test)\n"
   ]
  },
  {
   "cell_type": "code",
   "execution_count": 8,
   "metadata": {},
   "outputs": [
    {
     "name": "stdout",
     "output_type": "stream",
     "text": [
      "Coefficients: \n",
      " [-6.36332391e+04  6.17321441e+04  2.96775829e+02 -2.57684121e-01\n",
      "  5.74264173e+04 -3.28325590e+03]\n",
      "Mean squared error: 74938084308.74\n",
      "Variance score: 0.57\n"
     ]
    }
   ],
   "source": [
    "\n",
    "# The coefficients\n",
    "print('Coefficients: \\n', regr.coef_)\n",
    "\n",
    "# The mean squared error\n",
    "print(\"Mean squared error: %.2f\"\n",
    "      % mean_squared_error(houses_Y_test, houses_pred))\n",
    "\n",
    "# Explained variance score: 1 is perfect prediction\n",
    "print('Variance score: %.2f' % r2_score(houses_Y_test, houses_pred))\n"
   ]
  },
  {
   "cell_type": "code",
   "execution_count": null,
   "metadata": {},
   "outputs": [],
   "source": []
  },
  {
   "cell_type": "code",
   "execution_count": 19,
   "metadata": {},
   "outputs": [],
   "source": [
    "import statsmodels.api as sm\n",
    "\n",
    "houses_X_train = sm.add_constant(houses_X_train)\n",
    "houses_X_test = sm.add_constant(houses_X_test)\n",
    "\n",
    "est = sm.OLS(houses_Y_train, houses_X_train)\n",
    "est = est.fit()"
   ]
  },
  {
   "cell_type": "code",
   "execution_count": 20,
   "metadata": {},
   "outputs": [
    {
     "name": "stdout",
     "output_type": "stream",
     "text": [
      "                            OLS Regression Results                            \n",
      "==============================================================================\n",
      "Dep. Variable:                  price   R-squared:                       0.552\n",
      "Model:                            OLS   Adj. R-squared:                  0.552\n",
      "Method:                 Least Squares   F-statistic:                     3554.\n",
      "Date:                Mon, 19 Aug 2019   Prob (F-statistic):               0.00\n",
      "Time:                        12:23:16   Log-Likelihood:            -2.3850e+05\n",
      "No. Observations:               17290   AIC:                         4.770e+05\n",
      "Df Residuals:                   17283   BIC:                         4.771e+05\n",
      "Df Model:                           6                                         \n",
      "Covariance Type:            nonrobust                                         \n",
      "===============================================================================\n",
      "                  coef    std err          t      P>|t|      [0.025      0.975]\n",
      "-------------------------------------------------------------------------------\n",
      "const        6.395e+06   1.46e+05     43.803      0.000    6.11e+06    6.68e+06\n",
      "bedrooms    -6.363e+04   2408.640    -26.419      0.000   -6.84e+04   -5.89e+04\n",
      "bathrooms    6.173e+04   4161.554     14.834      0.000    5.36e+04    6.99e+04\n",
      "sqft_living   296.7758      3.281     90.461      0.000     290.345     303.206\n",
      "sqft_lot       -0.2577      0.043     -5.994      0.000      -0.342      -0.173\n",
      "floors       5.743e+04   4093.273     14.029      0.000    4.94e+04    6.54e+04\n",
      "yr_built    -3283.2559     75.823    -43.302      0.000   -3431.877   -3134.635\n",
      "==============================================================================\n",
      "Omnibus:                    10043.694   Durbin-Watson:                   2.003\n",
      "Prob(Omnibus):                  0.000   Jarque-Bera (JB):           225197.942\n",
      "Skew:                           2.357   Prob(JB):                         0.00\n",
      "Kurtosis:                      20.040   Cond. No.                     3.68e+06\n",
      "==============================================================================\n",
      "\n",
      "Warnings:\n",
      "[1] Standard Errors assume that the covariance matrix of the errors is correctly specified.\n",
      "[2] The condition number is large, 3.68e+06. This might indicate that there are\n",
      "strong multicollinearity or other numerical problems.\n"
     ]
    }
   ],
   "source": [
    "print(est.summary())"
   ]
  },
  {
   "cell_type": "code",
   "execution_count": 21,
   "metadata": {},
   "outputs": [
    {
     "data": {
      "text/html": [
       "<div>\n",
       "<style scoped>\n",
       "    .dataframe tbody tr th:only-of-type {\n",
       "        vertical-align: middle;\n",
       "    }\n",
       "\n",
       "    .dataframe tbody tr th {\n",
       "        vertical-align: top;\n",
       "    }\n",
       "\n",
       "    .dataframe thead th {\n",
       "        text-align: right;\n",
       "    }\n",
       "</style>\n",
       "<table border=\"1\" class=\"dataframe\">\n",
       "  <thead>\n",
       "    <tr style=\"text-align: right;\">\n",
       "      <th></th>\n",
       "      <th>const</th>\n",
       "      <th>bedrooms</th>\n",
       "      <th>bathrooms</th>\n",
       "      <th>sqft_living</th>\n",
       "      <th>sqft_lot</th>\n",
       "      <th>floors</th>\n",
       "      <th>yr_built</th>\n",
       "    </tr>\n",
       "  </thead>\n",
       "  <tbody>\n",
       "    <tr>\n",
       "      <th>15544</th>\n",
       "      <td>1.0</td>\n",
       "      <td>4</td>\n",
       "      <td>2.75</td>\n",
       "      <td>2790</td>\n",
       "      <td>6600</td>\n",
       "      <td>2.0</td>\n",
       "      <td>2000</td>\n",
       "    </tr>\n",
       "    <tr>\n",
       "      <th>17454</th>\n",
       "      <td>1.0</td>\n",
       "      <td>3</td>\n",
       "      <td>2.25</td>\n",
       "      <td>1630</td>\n",
       "      <td>6449</td>\n",
       "      <td>1.0</td>\n",
       "      <td>1986</td>\n",
       "    </tr>\n",
       "    <tr>\n",
       "      <th>21548</th>\n",
       "      <td>1.0</td>\n",
       "      <td>2</td>\n",
       "      <td>1.50</td>\n",
       "      <td>2370</td>\n",
       "      <td>184231</td>\n",
       "      <td>2.0</td>\n",
       "      <td>2005</td>\n",
       "    </tr>\n",
       "    <tr>\n",
       "      <th>3427</th>\n",
       "      <td>1.0</td>\n",
       "      <td>4</td>\n",
       "      <td>2.50</td>\n",
       "      <td>2270</td>\n",
       "      <td>7665</td>\n",
       "      <td>2.0</td>\n",
       "      <td>1986</td>\n",
       "    </tr>\n",
       "    <tr>\n",
       "      <th>8809</th>\n",
       "      <td>1.0</td>\n",
       "      <td>3</td>\n",
       "      <td>1.00</td>\n",
       "      <td>1430</td>\n",
       "      <td>7599</td>\n",
       "      <td>1.5</td>\n",
       "      <td>1930</td>\n",
       "    </tr>\n",
       "  </tbody>\n",
       "</table>\n",
       "</div>"
      ],
      "text/plain": [
       "       const  bedrooms  bathrooms  sqft_living  sqft_lot  floors  yr_built\n",
       "15544    1.0         4       2.75         2790      6600     2.0      2000\n",
       "17454    1.0         3       2.25         1630      6449     1.0      1986\n",
       "21548    1.0         2       1.50         2370    184231     2.0      2005\n",
       "3427     1.0         4       2.50         2270      7665     2.0      1986\n",
       "8809     1.0         3       1.00         1430      7599     1.5      1930"
      ]
     },
     "execution_count": 21,
     "metadata": {},
     "output_type": "execute_result"
    }
   ],
   "source": [
    "houses_X_test.head()"
   ]
  },
  {
   "cell_type": "code",
   "execution_count": 22,
   "metadata": {},
   "outputs": [],
   "source": [
    "houses_pred_sm = est.predict(houses_X_test)"
   ]
  },
  {
   "cell_type": "code",
   "execution_count": 23,
   "metadata": {},
   "outputs": [
    {
     "name": "stdout",
     "output_type": "stream",
     "text": [
      "Variance score: 0.57\n"
     ]
    }
   ],
   "source": [
    "print('Variance score: %.2f' % r2_score(houses_Y_test, houses_pred_sm))"
   ]
  },
  {
   "cell_type": "code",
   "execution_count": null,
   "metadata": {},
   "outputs": [],
   "source": []
  },
  {
   "cell_type": "code",
   "execution_count": null,
   "metadata": {},
   "outputs": [],
   "source": []
  }
 ],
 "metadata": {
  "kernelspec": {
   "display_name": "Python 3",
   "language": "python",
   "name": "python3"
  },
  "language_info": {
   "codemirror_mode": {
    "name": "ipython",
    "version": 3
   },
   "file_extension": ".py",
   "mimetype": "text/x-python",
   "name": "python",
   "nbconvert_exporter": "python",
   "pygments_lexer": "ipython3",
   "version": "3.7.4"
  }
 },
 "nbformat": 4,
 "nbformat_minor": 1
}
