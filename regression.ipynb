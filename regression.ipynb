{
 "cells": [
  {
   "cell_type": "code",
   "execution_count": 71,
   "metadata": {},
   "outputs": [],
   "source": [
    "import matplotlib.pyplot as plt\n",
    "import numpy as np\n",
    "import pandas as pd\n",
    "from sklearn import datasets, linear_model\n",
    "from sklearn.metrics import mean_squared_error, r2_score\n",
    "\n",
    "# Load the diabetes dataset\n",
    "houses = pd.read_csv(r'E:\\Programming\\Projects\\Python\\JSP\\data.csv')\n"
   ]
  },
  {
   "cell_type": "code",
   "execution_count": 72,
   "metadata": {},
   "outputs": [],
   "source": [
    "\n",
    "# data for testing and training\n",
    "houses_X = houses[['bedrooms', 'bathrooms', 'sqft_living', 'sqft_lot', 'floors', 'yr_built',  ]]\n",
    "\n",
    "# price of houses\n",
    "houses_Y = houses['price']\n"
   ]
  },
  {
   "cell_type": "code",
   "execution_count": 73,
   "metadata": {},
   "outputs": [],
   "source": [
    "from sklearn.model_selection import train_test_split\n",
    "\n",
    "# Split the data into training/testing sets\n",
    "houses_X_train, houses_X_test, houses_Y_train, houses_Y_test = train_test_split(houses_X, houses_Y,\n",
    "                                                                                test_size=0.2, random_state=1) \n",
    "\n"
   ]
  },
  {
   "cell_type": "code",
   "execution_count": 74,
   "metadata": {},
   "outputs": [],
   "source": [
    "\n",
    "# Create linear regression object\n",
    "regr = linear_model.LinearRegression()\n",
    "\n",
    "# Make predictions using the testing set\n",
    "regr.fit(houses_X_train, houses_Y_train)\n",
    "\n",
    "houses_pred = regr.predict(houses_X_test)\n"
   ]
  },
  {
   "cell_type": "code",
   "execution_count": 75,
   "metadata": {},
   "outputs": [
    {
     "name": "stdout",
     "output_type": "stream",
     "text": [
      "Coefficients: \n",
      " [-6.36332391e+04  6.17321441e+04  2.96775829e+02 -2.57684121e-01\n",
      "  5.74264173e+04 -3.28325590e+03]\n",
      "Mean squared error: 74938084308.74\n",
      "Variance score: 0.57\n"
     ]
    }
   ],
   "source": [
    "\n",
    "# The coefficients\n",
    "print('Coefficients: \\n', regr.coef_)\n",
    "\n",
    "# The mean squared error\n",
    "print(\"Mean squared error: %.2f\"\n",
    "      % mean_squared_error(houses_Y_test, houses_pred))\n",
    "\n",
    "# Explained variance score: 1 is perfect prediction\n",
    "print('Variance score: %.2f' % r2_score(houses_Y_test, houses_pred))\n"
   ]
  },
  {
   "cell_type": "code",
   "execution_count": 76,
   "metadata": {},
   "outputs": [
    {
     "name": "stdout",
     "output_type": "stream",
     "text": [
      "                                 OLS Regression Results                                \n",
      "=======================================================================================\n",
      "Dep. Variable:                  price   R-squared (uncentered):                   0.850\n",
      "Model:                            OLS   Adj. R-squared (uncentered):              0.850\n",
      "Method:                 Least Squares   F-statistic:                          1.629e+04\n",
      "Date:                Tue, 13 Aug 2019   Prob (F-statistic):                        0.00\n",
      "Time:                        22:12:31   Log-Likelihood:                     -2.3941e+05\n",
      "No. Observations:               17290   AIC:                                  4.788e+05\n",
      "Df Residuals:                   17284   BIC:                                  4.789e+05\n",
      "Df Model:                           6                                                  \n",
      "Covariance Type:            nonrobust                                                  \n",
      "===============================================================================\n",
      "                  coef    std err          t      P>|t|      [0.025      0.975]\n",
      "-------------------------------------------------------------------------------\n",
      "bedrooms    -5.162e+04   2522.235    -20.465      0.000   -5.66e+04   -4.67e+04\n",
      "bathrooms    3439.4958   4156.033      0.828      0.408   -4706.750    1.16e+04\n",
      "sqft_living   305.7909      3.451     88.606      0.000     299.026     312.555\n",
      "sqft_lot       -0.3269      0.045     -7.220      0.000      -0.416      -0.238\n",
      "floors       5753.7533   4131.334      1.393      0.164   -2344.080    1.39e+04\n",
      "yr_built       33.1851      4.322      7.679      0.000      24.714      41.656\n",
      "==============================================================================\n",
      "Omnibus:                     9654.454   Durbin-Watson:                   2.001\n",
      "Prob(Omnibus):                  0.000   Jarque-Bera (JB):           173188.860\n",
      "Skew:                           2.305   Prob(JB):                         0.00\n",
      "Kurtosis:                      17.804   Cond. No.                     1.17e+05\n",
      "==============================================================================\n",
      "\n",
      "Warnings:\n",
      "[1] Standard Errors assume that the covariance matrix of the errors is correctly specified.\n",
      "[2] The condition number is large, 1.17e+05. This might indicate that there are\n",
      "strong multicollinearity or other numerical problems.\n",
      "Variance score: 0.52\n"
     ]
    }
   ],
   "source": [
    "import statsmodels.api as sm\n",
    "\n",
    "# houses_X_train = sm.add_constant(houses_X_train)\n",
    "est = sm.OLS(houses_Y_train, houses_X_train)\n",
    "est = est.fit()\n",
    "\n",
    "houses_pred_sm = est.predict(houses_X_test)\n",
    "\n",
    "print(est.summary())\n",
    "print('Variance score: %.2f' % r2_score(houses_Y_test, houses_pred_sm))"
   ]
  },
  {
   "cell_type": "code",
   "execution_count": null,
   "metadata": {},
   "outputs": [],
   "source": []
  },
  {
   "cell_type": "code",
   "execution_count": null,
   "metadata": {},
   "outputs": [],
   "source": []
  }
 ],
 "metadata": {
  "kernelspec": {
   "display_name": "Python 3",
   "language": "python",
   "name": "python3"
  },
  "language_info": {
   "codemirror_mode": {
    "name": "ipython",
    "version": 3
   },
   "file_extension": ".py",
   "mimetype": "text/x-python",
   "name": "python",
   "nbconvert_exporter": "python",
   "pygments_lexer": "ipython3",
   "version": "3.7.3"
  }
 },
 "nbformat": 4,
 "nbformat_minor": 1
}
