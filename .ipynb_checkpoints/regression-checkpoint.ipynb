{
 "cells": [
  {
   "cell_type": "code",
   "execution_count": 85,
   "metadata": {},
   "outputs": [],
   "source": [
    "import pandas as pd\n",
    "from sklearn import datasets, linear_model\n",
    "from sklearn.metrics import mean_squared_error, r2_score\n",
    "from sklearn import preprocessing\n",
    "\n",
    "# Load the diabetes dataset\n",
    "houses = pd.read_csv('data.csv')\n"
   ]
  },
  {
   "cell_type": "code",
   "execution_count": 86,
   "metadata": {},
   "outputs": [],
   "source": [
    "\n",
    "# data for testing and training\n",
    "houses_X = houses[['bedrooms', 'bathrooms', 'sqft_living', 'sqft_lot', 'floors', 'yr_built',  ]]\n",
    "\n",
    "# price of houses\n",
    "houses_Y = houses['price']"
   ]
  },
  {
   "cell_type": "code",
   "execution_count": 87,
   "metadata": {},
   "outputs": [
    {
     "name": "stderr",
     "output_type": "stream",
     "text": [
      "D:\\IT\\Anaconda3\\lib\\site-packages\\ipykernel_launcher.py:1: SettingWithCopyWarning: \n",
      "A value is trying to be set on a copy of a slice from a DataFrame.\n",
      "Try using .loc[row_indexer,col_indexer] = value instead\n",
      "\n",
      "See the caveats in the documentation: http://pandas.pydata.org/pandas-docs/stable/indexing.html#indexing-view-versus-copy\n",
      "  \"\"\"Entry point for launching an IPython kernel.\n",
      "D:\\IT\\Anaconda3\\lib\\site-packages\\ipykernel_launcher.py:2: SettingWithCopyWarning: \n",
      "A value is trying to be set on a copy of a slice from a DataFrame.\n",
      "Try using .loc[row_indexer,col_indexer] = value instead\n",
      "\n",
      "See the caveats in the documentation: http://pandas.pydata.org/pandas-docs/stable/indexing.html#indexing-view-versus-copy\n",
      "  \n",
      "D:\\IT\\Anaconda3\\lib\\site-packages\\ipykernel_launcher.py:3: SettingWithCopyWarning: \n",
      "A value is trying to be set on a copy of a slice from a DataFrame.\n",
      "Try using .loc[row_indexer,col_indexer] = value instead\n",
      "\n",
      "See the caveats in the documentation: http://pandas.pydata.org/pandas-docs/stable/indexing.html#indexing-view-versus-copy\n",
      "  This is separate from the ipykernel package so we can avoid doing imports until\n",
      "D:\\IT\\Anaconda3\\lib\\site-packages\\ipykernel_launcher.py:4: SettingWithCopyWarning: \n",
      "A value is trying to be set on a copy of a slice from a DataFrame.\n",
      "Try using .loc[row_indexer,col_indexer] = value instead\n",
      "\n",
      "See the caveats in the documentation: http://pandas.pydata.org/pandas-docs/stable/indexing.html#indexing-view-versus-copy\n",
      "  after removing the cwd from sys.path.\n",
      "D:\\IT\\Anaconda3\\lib\\site-packages\\ipykernel_launcher.py:5: SettingWithCopyWarning: \n",
      "A value is trying to be set on a copy of a slice from a DataFrame.\n",
      "Try using .loc[row_indexer,col_indexer] = value instead\n",
      "\n",
      "See the caveats in the documentation: http://pandas.pydata.org/pandas-docs/stable/indexing.html#indexing-view-versus-copy\n",
      "  \"\"\"\n",
      "D:\\IT\\Anaconda3\\lib\\site-packages\\ipykernel_launcher.py:6: SettingWithCopyWarning: \n",
      "A value is trying to be set on a copy of a slice from a DataFrame.\n",
      "Try using .loc[row_indexer,col_indexer] = value instead\n",
      "\n",
      "See the caveats in the documentation: http://pandas.pydata.org/pandas-docs/stable/indexing.html#indexing-view-versus-copy\n",
      "  \n"
     ]
    }
   ],
   "source": [
    "houses_X['bedrooms**2'] = houses_X['bedrooms']**2\n",
    "houses_X['bathrooms**2'] = houses_X['bathrooms']**2\n",
    "houses_X['sqft_living**2'] = houses_X['sqft_living']**2\n",
    "houses_X['sqft_lot**2'] = houses_X['sqft_lot']**2\n",
    "houses_X['floors**2'] = houses_X['floors']**2\n",
    "houses_X['yr_built**2'] = houses_X['yr_built']**2"
   ]
  },
  {
   "cell_type": "code",
   "execution_count": 88,
   "metadata": {},
   "outputs": [],
   "source": [
    "from sklearn.model_selection import train_test_split\n",
    "\n",
    "# Split the data into training/testing sets\n",
    "houses_X_train, houses_X_test, houses_Y_train, houses_Y_test = train_test_split(houses_X, houses_Y,\n",
    "                                                                                test_size=0.2, random_state=1) \n"
   ]
  },
  {
   "cell_type": "markdown",
   "metadata": {},
   "source": [
    "houses_X_train = preprocessing.scale(houses_X_train)\n",
    "houses_X_test = preprocessing.scale(houses_X_test)"
   ]
  },
  {
   "cell_type": "markdown",
   "metadata": {},
   "source": [
    "houses_X_train = preprocessing.normalize(houses_X_train)\n",
    "houses_X_test = preprocessing.normalize(houses_X_test)"
   ]
  },
  {
   "cell_type": "code",
   "execution_count": 90,
   "metadata": {},
   "outputs": [],
   "source": [
    "# Create linear regression object\n",
    "regr = linear_model.LinearRegression()\n",
    "\n",
    "# Make predictions using the testing set\n",
    "regr.fit(houses_X_train, houses_Y_train)\n",
    "\n",
    "houses_pred = regr.predict(houses_X_test)"
   ]
  },
  {
   "cell_type": "code",
   "execution_count": 91,
   "metadata": {},
   "outputs": [
    {
     "name": "stdout",
     "output_type": "stream",
     "text": [
      "Mean squared error: 72732541361.28\n",
      "Variance score: 0.58\n"
     ]
    }
   ],
   "source": [
    "\n",
    "# The coefficients\n",
    "# print('Coefficients: \\n', clf.coef_)\n",
    "\n",
    "# The mean squared error\n",
    "print(\"Mean squared error: %.2f\"\n",
    "      % mean_squared_error(houses_Y_test, houses_pred))\n",
    "\n",
    "# Explained variance score: 1 is perfect prediction\n",
    "print('Variance score: %.2f' % r2_score(houses_Y_test, houses_pred))\n"
   ]
  },
  {
   "cell_type": "code",
   "execution_count": 92,
   "metadata": {},
   "outputs": [],
   "source": [
    "import statsmodels.api as sm\n",
    "\n",
    "houses_X_train = sm.add_constant(houses_X_train)\n",
    "houses_X_test = sm.add_constant(houses_X_test)\n",
    "\n",
    "est = sm.OLS(houses_Y_train, houses_X_train)\n",
    "est = est.fit()"
   ]
  },
  {
   "cell_type": "code",
   "execution_count": 82,
   "metadata": {},
   "outputs": [
    {
     "name": "stdout",
     "output_type": "stream",
     "text": [
      "                            OLS Regression Results                            \n",
      "==============================================================================\n",
      "Dep. Variable:                  price   R-squared:                       0.583\n",
      "Model:                            OLS   Adj. R-squared:                  0.582\n",
      "Method:                 Least Squares   F-statistic:                     2011.\n",
      "Date:                Wed, 21 Aug 2019   Prob (F-statistic):               0.00\n",
      "Time:                        16:39:53   Log-Likelihood:            -2.3789e+05\n",
      "No. Observations:               17290   AIC:                         4.758e+05\n",
      "Df Residuals:                   17277   BIC:                         4.759e+05\n",
      "Df Model:                          12                                         \n",
      "Covariance Type:            nonrobust                                         \n",
      "==================================================================================\n",
      "                     coef    std err          t      P>|t|      [0.025      0.975]\n",
      "----------------------------------------------------------------------------------\n",
      "const           1.559e+07    8.9e+06      1.753      0.080   -1.84e+06     3.3e+07\n",
      "bedrooms       -5.966e+04   3707.588    -16.092      0.000   -6.69e+04   -5.24e+04\n",
      "bathrooms       9.676e+04   1.25e+04      7.756      0.000    7.23e+04    1.21e+05\n",
      "sqft_living       75.3271      9.451      7.970      0.000      56.802      93.852\n",
      "sqft_lot          -0.5858      0.070     -8.413      0.000      -0.722      -0.449\n",
      "floors         -1.165e+05   2.07e+04     -5.641      0.000   -1.57e+05    -7.6e+04\n",
      "yr_built       -1.252e+04   9077.756     -1.379      0.168   -3.03e+04    5273.245\n",
      "bedrooms**2     1547.8661    273.557      5.658      0.000    1011.667    2084.065\n",
      "bathrooms**2   -6252.0950   2540.049     -2.461      0.014   -1.12e+04   -1273.342\n",
      "sqft_living**2     0.0402      0.002     25.153      0.000       0.037       0.043\n",
      "sqft_lot**2     4.813e-07   8.96e-08      5.374      0.000    3.06e-07    6.57e-07\n",
      "floors**2       5.214e+04   5915.961      8.814      0.000    4.05e+04    6.37e+04\n",
      "yr_built**2        2.3979      2.317      1.035      0.301      -2.143       6.939\n",
      "==============================================================================\n",
      "Omnibus:                     7793.899   Durbin-Watson:                   1.998\n",
      "Prob(Omnibus):                  0.000   Jarque-Bera (JB):           125348.700\n",
      "Skew:                           1.752   Prob(JB):                         0.00\n",
      "Kurtosis:                      15.717   Cond. No.                     1.67e+14\n",
      "==============================================================================\n",
      "\n",
      "Warnings:\n",
      "[1] Standard Errors assume that the covariance matrix of the errors is correctly specified.\n",
      "[2] The condition number is large, 1.67e+14. This might indicate that there are\n",
      "strong multicollinearity or other numerical problems.\n"
     ]
    }
   ],
   "source": [
    "print(est.summary())"
   ]
  },
  {
   "cell_type": "code",
   "execution_count": 83,
   "metadata": {},
   "outputs": [],
   "source": [
    "houses_pred_sm = est.predict(houses_X_test)"
   ]
  },
  {
   "cell_type": "code",
   "execution_count": 84,
   "metadata": {},
   "outputs": [
    {
     "name": "stdout",
     "output_type": "stream",
     "text": [
      "Variance score: 0.59\n"
     ]
    }
   ],
   "source": [
    "print('Variance score: %.2f' % r2_score(houses_Y_test, houses_pred_sm))"
   ]
  },
  {
   "cell_type": "code",
   "execution_count": null,
   "metadata": {},
   "outputs": [],
   "source": []
  }
 ],
 "metadata": {
  "kernelspec": {
   "display_name": "Python 3",
   "language": "python",
   "name": "python3"
  },
  "language_info": {
   "codemirror_mode": {
    "name": "ipython",
    "version": 3
   },
   "file_extension": ".py",
   "mimetype": "text/x-python",
   "name": "python",
   "nbconvert_exporter": "python",
   "pygments_lexer": "ipython3",
   "version": "3.7.3"
  }
 },
 "nbformat": 4,
 "nbformat_minor": 1
}
