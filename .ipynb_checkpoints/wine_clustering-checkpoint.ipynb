{
 "cells": [
  {
   "cell_type": "code",
   "execution_count": 51,
   "metadata": {},
   "outputs": [],
   "source": [
    "import pandas as pd\n",
    "\n",
    "data = pd.read_csv('wine.csv')"
   ]
  },
  {
   "cell_type": "code",
   "execution_count": 52,
   "metadata": {},
   "outputs": [
    {
     "data": {
      "text/plain": [
       "(1599, 10)"
      ]
     },
     "execution_count": 52,
     "metadata": {},
     "output_type": "execute_result"
    }
   ],
   "source": [
    "X = data[['fixed acidity', 'volatile acidity', 'citric acid', 'residual sugar',\n",
    "          'chlorides', 'free sulfur dioxide', 'total sulfur dioxide', 'density',\n",
    "          'pH', 'sulphates']]\n",
    "X.shape"
   ]
  },
  {
   "cell_type": "code",
   "execution_count": 53,
   "metadata": {},
   "outputs": [],
   "source": [
    "from sklearn.cluster import KMeans\n",
    "\n",
    "model = KMeans(n_clusters=2)"
   ]
  },
  {
   "cell_type": "code",
   "execution_count": 54,
   "metadata": {},
   "outputs": [
    {
     "data": {
      "image/png": "[encoded data removed]",
      "text/plain": [
       "<Figure size 432x288 with 2 Axes>"
      ]
     },
     "metadata": {},
     "output_type": "display_data"
    }
   ],
   "source": [
    "from yellowbrick.cluster import KElbowVisualizer\n",
    "\n",
    "visualizer = KElbowVisualizer(model, k=(2,8))\n",
    "\n",
    "visualizer.fit(X[:1300])    # Fit the data to the visualizer\n",
    "visualizer.poof()    # Draw/show/poof the data"
   ]
  },
  {
   "cell_type": "code",
   "execution_count": 55,
   "metadata": {},
   "outputs": [
    {
     "data": {
      "text/plain": [
       "array([4, 2, 0, 6, 6, 3, 3, 4, 3, 6, 3, 4, 4, 6, 6, 3, 2, 4, 3, 6, 3, 2,\n",
       "       0, 2, 4, 4, 4, 4, 4, 3, 3, 6, 0, 2, 0, 2, 4, 4, 4, 4, 4, 4, 4, 4,\n",
       "       0, 4, 0, 0, 0, 2, 6, 2, 2, 2, 4, 4, 4, 6, 3, 4, 4, 2, 4, 2, 4, 4,\n",
       "       2, 3, 6, 0, 6, 0, 6, 3, 4, 3, 4, 6, 4, 4, 4, 0, 3, 3, 3, 3, 0, 0,\n",
       "       2, 3, 4, 4, 0, 2, 6, 0, 0, 3, 4, 4, 1, 1, 0, 0, 2, 4, 0, 6, 2, 6,\n",
       "       0, 0, 0, 3, 0, 0, 0, 4, 0, 1, 0, 2, 6, 4, 0, 0, 6, 0, 2, 6, 2, 6,\n",
       "       0, 4, 3, 3, 3, 4, 0, 3, 4, 3, 4, 0, 3, 3, 4, 2, 6, 4, 4, 0, 2, 3,\n",
       "       0, 0, 3, 3, 0, 0, 6, 0, 4, 4, 2, 2, 2, 4, 2, 2, 0, 0, 2, 2, 6, 3,\n",
       "       6, 3, 0, 0, 0, 0, 0, 0, 0, 4, 0, 0, 0, 0, 0, 0, 0, 1, 4, 4, 1, 0,\n",
       "       0, 0, 0, 6, 2, 0, 0, 0, 0, 0, 4, 0, 2, 4, 0, 6, 6, 6, 2, 2, 0, 4,\n",
       "       2, 0, 2, 6, 2, 4, 4, 4, 2, 2, 0, 4, 4, 3, 4, 4, 2, 4, 4, 6, 4, 2,\n",
       "       2, 0, 0, 4, 4, 4, 2, 4, 4, 4, 2, 4, 4, 4, 0, 4, 1, 1, 1, 1, 0, 0,\n",
       "       0, 2, 2, 0, 2, 4, 4, 4, 3, 2, 3, 0, 4, 4, 0, 4, 4, 4, 4, 3, 4, 2,\n",
       "       6, 4, 3, 6, 4, 4, 2, 2, 2, 2, 2, 2, 2])"
      ]
     },
     "execution_count": 55,
     "metadata": {},
     "output_type": "execute_result"
    }
   ],
   "source": [
    "model.predict(X[1300:1600])"
   ]
  },
  {
   "cell_type": "code",
   "execution_count": 56,
   "metadata": {},
   "outputs": [],
   "source": [
    "from sklearn.cluster import MeanShift\n",
    "import numpy as np\n",
    "\n",
    "clustering = MeanShift(bandwidth=2)\n",
    "clustering = clustering.fit(X[:1300])"
   ]
  },
  {
   "cell_type": "code",
   "execution_count": 37,
   "metadata": {},
   "outputs": [
    {
     "data": {
      "text/plain": [
       "array([ 38, 108,   2, 190, 106, 399, 395,  38, 395, 208, 399,   8,  60,\n",
       "       172, 166, 454, 453,  57, 454, 172, 262, 453,  10, 108,  32,  32,\n",
       "        32,  32,   7, 454, 454, 190,  22,  23,   0,  73,  15,  15,  15,\n",
       "        14,  14,  14,  45,  14,   5,  20,   0,   0,   0, 412, 370, 177,\n",
       "        41,  41,  24, 179, 449, 173, 352,  56,  63, 110,  56, 344,  14,\n",
       "        18,  43, 142, 185,   0, 102,   2, 102, 155,  38, 375,  29, 382,\n",
       "        20,  30,  30, 449, 305, 305, 180, 405,   9,   9, 406, 164,  16,\n",
       "        29,   0,  64, 384,   0,   0, 100,  38,   9, 343, 343,   9,   0,\n",
       "       109,  32, 297,  61, 413,  61,   2,   6, 297, 331,   1,  10,   1,\n",
       "        53, 431, 160, 431,  65,  61,  14,   9,   9,  35,   9, 279, 391,\n",
       "       202,  93,   0,  15, 356, 356, 140,   7,  17, 378,  38, 304,  45,\n",
       "         4, 378, 304,  45, 412,  61,  38,  38,  10, 413,  89,  47,  21,\n",
       "       278,  89,   6,  21, 407,   0,  14,   7, 413, 413, 337,  45, 337,\n",
       "       202,  22,  21,  46, 109, 408, 439, 408, 439, 107,   4,   0,   4,\n",
       "         0,   0,   0,   9,   9,  21,   0,   0,  10,   0,   6, 422,  38,\n",
       "        38, 422,  21,   0,  21,  21, 172,  67,   2,   0,   0,   2,   0,\n",
       "       420,   6, 433,  97,  31, 172,  37,  37, 448, 411,   6,  38, 411,\n",
       "         9, 448, 169, 105,  32,  25,  15, 135,  61,  10,  38, 315, 405,\n",
       "        38,  27,  46, 193,  15, 381,  14, 202, 410, 276,  62,  38, 420,\n",
       "        15, 248, 315, 420, 420, 337,  97,  54,  15,  31,  54, 204, 160,\n",
       "       160, 160,  31,  31,  31,  52,  70,  31, 182,  16, 357,  15, 329,\n",
       "       188, 427,  31,  38,  38,  54, 320,  20, 320,  38, 455, 195, 105,\n",
       "       381, 420, 329, 458, 195, 420, 410, 195, 168, 413, 410, 168,  73],\n",
       "      dtype=int64)"
      ]
     },
     "execution_count": 37,
     "metadata": {},
     "output_type": "execute_result"
    }
   ],
   "source": [
    "clustering.predict(X[1300:1600])"
   ]
  },
  {
   "cell_type": "code",
   "execution_count": 60,
   "metadata": {},
   "outputs": [],
   "source": [
    "MeanShift?"
   ]
  },
  {
   "cell_type": "code",
   "execution_count": null,
   "metadata": {},
   "outputs": [],
   "source": []
  },
  {
   "cell_type": "code",
   "execution_count": null,
   "metadata": {},
   "outputs": [],
   "source": []
  }
 ],
 "metadata": {
  "kernelspec": {
   "display_name": "Python 3",
   "language": "python",
   "name": "python3"
  },
  "language_info": {
   "codemirror_mode": {
    "name": "ipython",
    "version": 3
   },
   "file_extension": ".py",
   "mimetype": "text/x-python",
   "name": "python",
   "nbconvert_exporter": "python",
   "pygments_lexer": "ipython3",
   "version": "3.7.3"
  }
 },
 "nbformat": 4,
 "nbformat_minor": 2
}
