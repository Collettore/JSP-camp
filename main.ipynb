{
 "cells": [
  {
   "cell_type": "code",
   "execution_count": 3,
   "metadata": {},
   "outputs": [
    {
     "data": {
      "text/plain": [
       "0      1\n1      2\n2      3\n3     ad\n4      3\n5    NaN\ndtype: object"
      ]
     },
     "execution_count": 3,
     "metadata": {},
     "output_type": "execute_result"
    }
   ],
   "source": [
    "import numpy as np\n",
    "\n",
    "import pandas as pd\n",
    "\n",
    "#creaton series\n",
    "s = pd.Series([1, 2, 3, 'ad', 3, np.nan])\n",
    "s"
   ]
  },
  {
   "cell_type": "code",
   "execution_count": 4,
   "metadata": {},
   "outputs": [
    {
     "name": "stdout",
     "output_type": "stream",
     "text": [
      "                   A         B         C         D\n2013-01-01  0.816099  0.917929  0.353575 -1.894325\n2013-01-02  1.047176 -1.506365  0.221421 -2.810869\n2013-01-03  0.842203 -0.367552  0.807030 -0.211238\n2013-01-04 -0.631365 -1.530838 -0.061380  0.377063\n2013-01-05 -0.674746  0.911403 -0.025375 -0.716649\n2013-01-06 -0.474334 -1.030611  0.436526 -1.381555\n\n\n[[ 0.8160985   0.91792856  0.35357525 -1.89432544]\n [ 1.04717612 -1.50636464  0.22142102 -2.81086855]\n [ 0.84220315 -0.36755172  0.80703039 -0.2112382 ]\n [-0.63136492 -1.53083781 -0.06137988  0.37706307]\n [-0.67474616  0.91140294 -0.0253749  -0.71664892]\n [-0.47433426 -1.03061099  0.43652604 -1.38155502]]\n"
     ]
    }
   ],
   "source": [
    "#creating DataFrame\n",
    "dates = pd.date_range('20130101', periods=6)\n",
    "dates[1]\n",
    "\n",
    "arr = np.random.randn(6, 4)\n",
    "\n",
    "df = pd.DataFrame(arr, index=dates, columns=list('ABCD'))\n",
    "\n",
    "print(df)\n",
    "print('\\n')\n",
    "print(arr)\n"
   ]
  },
  {
   "cell_type": "code",
   "execution_count": null,
   "metadata": {},
   "outputs": [],
   "source": [
    "df2 = pd.DataFrame({ 'A': 1.,\n",
    "                    'B': pd.Timestamp('20130102'),\n",
    "                    'C': pd.Series(1, index=list(range(4)),  dtype='float32'),\n",
    "                    'D': np.array([3] * 4, dtype='int32'),\n",
    "                    'E': pd.Categorical([\"test\", \"train\", \"test\", \"train\"]),\n",
    "                    'F': 'foo' })\n",
    "\n",
    "print(df2)\n",
    "df2.dtypes\n"
   ]
  },
  {
   "cell_type": "code",
   "execution_count": 21,
   "metadata": {},
   "outputs": [
    {
     "data": {
      "text/plain": [
       "<bound method NDFrame.bool of      A          B    C  D      E    F\n0  1.0 2013-01-02  1.0  3   test  foo\n1  1.0 2013-01-02  1.0  3  train  foo\n2  1.0 2013-01-02  1.0  3   test  foo\n3  1.0 2013-01-02  1.0  3  train  foo>"
      ]
     },
     "execution_count": 21,
     "metadata": {},
     "output_type": "execute_result"
    }
   ],
   "source": [
    "df2.bool\n",
    "#?????"
   ]
  },
  {
   "cell_type": "code",
   "execution_count": 54,
   "metadata": {
    "collapsed": false
   },
   "outputs": [
    {
     "name": "stdout",
     "output_type": "stream",
     "text": [
      "Int64Index([0, 1, 2, 3], dtype='int64')\nIndex(['A', 'B', 'C', 'D', 'E', 'F'], dtype='object')\n"
     ]
    }
   ],
   "source": [
    "df2.index\n",
    "print(df2.index)\n",
    "print(df2.columns)"
   ]
  },
  {
   "cell_type": "code",
   "execution_count": 66,
   "metadata": {},
   "outputs": [
    {
     "name": "stdout",
     "output_type": "stream",
     "text": [
      "[[ 0.6032665  -0.30680373  1.04752604  1.01139537]\n [-1.15556476  2.19935779  0.48415873  0.34060081]\n [-1.52512485 -1.35054179  0.1795713   0.57894288]\n [-1.80285745 -1.63013592  0.2541295   0.79628418]\n [-1.24507426 -3.22389845 -0.32974278 -0.71804825]\n [ 2.2827239  -2.34253151 -1.10221432 -1.22875152]] \n\n[[1.0 Timestamp('2013-01-02 00:00:00') 1.0 3 'test' 'foo']\n [1.0 Timestamp('2013-01-02 00:00:00') 1.0 3 'train' 'foo']\n [1.0 Timestamp('2013-01-02 00:00:00') 1.0 3 'test' 'foo']\n [1.0 Timestamp('2013-01-02 00:00:00') 1.0 3 'train' 'foo']]\n\n\n   2013-01-01  2013-01-02  2013-01-03  2013-01-04  2013-01-05  2013-01-06\nA    0.603267   -1.155565   -1.525125   -1.802857   -1.245074    2.282724\nB   -0.306804    2.199358   -1.350542   -1.630136   -3.223898   -2.342532\nC    1.047526    0.484159    0.179571    0.254129   -0.329743   -1.102214\nD    1.011395    0.340601    0.578943    0.796284   -0.718048   -1.228752\n"
     ]
    }
   ],
   "source": [
    "\n",
    "print(df.to_numpy(), '\\n')\n",
    "print(df2.to_numpy())\n",
    "print('\\n')\n",
    "print(df.T)"
   ]
  },
  {
   "cell_type": "code",
   "execution_count": 65,
   "metadata": {},
   "outputs": [
    {
     "name": "stdout",
     "output_type": "stream",
     "text": [
      "              A         B         C         D\ncount  6.000000  6.000000  6.000000  6.000000\nmean  -0.473772 -1.109092  0.088905  0.130071\nstd    1.593100  1.892779  0.735490  0.898007\nmin   -1.802857 -3.223898 -1.102214 -1.228752\n25%   -1.455112 -2.164433 -0.202414 -0.453386\n50%   -1.200320 -1.490339  0.216850  0.459772\n75%    0.163559 -0.567738  0.426651  0.741949\nmax    2.282724  2.199358  1.047526  1.011395\n\n\n   2013-01-01  2013-01-02  2013-01-03  2013-01-04  2013-01-05  2013-01-06\nA    0.603267   -1.155565   -1.525125   -1.802857   -1.245074    2.282724\nB   -0.306804    2.199358   -1.350542   -1.630136   -3.223898   -2.342532\nC    1.047526    0.484159    0.179571    0.254129   -0.329743   -1.102214\nD    1.011395    0.340601    0.578943    0.796284   -0.718048   -1.228752\n"
     ]
    }
   ],
   "source": [
    "print(df.describe())"
   ]
  },
  {
   "cell_type": "code",
   "execution_count": 68,
   "metadata": {},
   "outputs": [
    {
     "name": "stdout",
     "output_type": "stream",
     "text": [
      "                   A         B         C         D\n2013-01-05 -1.245074 -3.223898 -0.329743 -0.718048\n2013-01-06  2.282724 -2.342532 -1.102214 -1.228752\n2013-01-04 -1.802857 -1.630136  0.254129  0.796284\n2013-01-03 -1.525125 -1.350542  0.179571  0.578943\n2013-01-01  0.603267 -0.306804  1.047526  1.011395\n2013-01-02 -1.155565  2.199358  0.484159  0.340601\n"
     ]
    }
   ],
   "source": [
    "print(df.sort_values(by='B'))"
   ]
  },
  {
   "cell_type": "code",
   "execution_count": 69,
   "metadata": {},
   "outputs": [
    {
     "name": "stdout",
     "output_type": "stream",
     "text": [
      "2013-01-01    0.603267\n2013-01-02   -1.155565\n2013-01-03   -1.525125\n2013-01-04   -1.802857\n2013-01-05   -1.245074\n2013-01-06    2.282724\nFreq: D, Name: A, dtype: float64\n"
     ]
    }
   ],
   "source": [
    "ser = pd.Series(df['A'])\n",
    "print(ser)"
   ]
  },
  {
   "cell_type": "code",
   "execution_count": 84,
   "metadata": {},
   "outputs": [
    {
     "name": "stdout",
     "output_type": "stream",
     "text": [
      "                   A         B         C         D\n2013-01-01  0.603267 -0.306804  1.047526  1.011395\n2013-01-02 -1.155565  2.199358  0.484159  0.340601\n                   A         B         C         D\n2013-01-02 -1.155565  2.199358  0.484159  0.340601\n2013-01-03 -1.525125 -1.350542  0.179571  0.578943\n2013-01-04 -1.802857 -1.630136  0.254129  0.796284\n"
     ]
    }
   ],
   "source": [
    "print(df[0:2])\n",
    "print(df['20130102':'20130104'])"
   ]
  },
  {
   "cell_type": "code",
   "execution_count": 106,
   "metadata": {},
   "outputs": [
    {
     "name": "stdout",
     "output_type": "stream",
     "text": [
      "A    2.246330\nB    0.620248\nC   -1.267600\nD   -0.028922\nName: 2013-01-02 00:00:00, dtype: float64\n"
     ]
    }
   ],
   "source": [
    "print(df.loc['20130102'])"
   ]
  },
  {
   "cell_type": "code",
   "execution_count": 99,
   "metadata": {},
   "outputs": [
    {
     "name": "stdout",
     "output_type": "stream",
     "text": [
      "     A          B\n0  1.0 2013-01-02\n1  1.0 2013-01-02\n2  1.0 2013-01-02\n3  1.0 2013-01-02\n"
     ]
    }
   ],
   "source": [
    "print(df2.loc[:, ['A', 'B']])"
   ]
  },
  {
   "cell_type": "code",
   "execution_count": 112,
   "metadata": {},
   "outputs": [
    {
     "name": "stdout",
     "output_type": "stream",
     "text": [
      "                   A         B         C         D\n2013-01-01  0.328548  0.452415  1.004055 -0.366403\n2013-01-02  2.246330  0.620248 -1.267600 -0.028922 \n\n                   A         B\n2013-01-04 -0.816584 -0.443397\n2013-01-05 -1.090148  0.926962\n"
     ]
    }
   ],
   "source": [
    "print(df.iloc[0:2], '\\n')\n",
    "\n",
    "print(df.iloc[3:5, 0:2])"
   ]
  },
  {
   "cell_type": "code",
   "execution_count": 114,
   "metadata": {},
   "outputs": [
    {
     "name": "stdout",
     "output_type": "stream",
     "text": [
      "                   A         B         C         D\n2013-01-02  2.246330  0.620248 -1.267600 -0.028922\n2013-01-03 -1.219712 -1.418529 -0.718819 -0.385020\n"
     ]
    }
   ],
   "source": [
    "print(df.iloc[1:3, :])"
   ]
  },
  {
   "cell_type": "code",
   "execution_count": 115,
   "metadata": {},
   "outputs": [
    {
     "name": "stdout",
     "output_type": "stream",
     "text": [
      "0.6202480755622647\n"
     ]
    }
   ],
   "source": [
    "print(df.iat[1, 1])"
   ]
  },
  {
   "cell_type": "code",
   "execution_count": 120,
   "metadata": {},
   "outputs": [
    {
     "name": "stdout",
     "output_type": "stream",
     "text": [
      "                   A         B         C         D\n2013-01-01  0.328548  0.452415  1.004055 -0.366403\n2013-01-02  2.246330  0.620248 -1.267600 -0.028922\n2013-01-06  0.842420  0.155791  0.117149  1.600828\n"
     ]
    }
   ],
   "source": [
    "print(df[df.A > 0])\n"
   ]
  },
  {
   "cell_type": "code",
   "execution_count": 136,
   "metadata": {},
   "outputs": [
    {
     "name": "stdout",
     "output_type": "stream",
     "text": [
      "     A          B    C  D     E    F\n0  1.0 2013-01-02  1.0  3  test  foo\n2  1.0 2013-01-02  1.0  3  test  foo\n"
     ]
    }
   ],
   "source": [
    "print(df2[df2.E.isin(['test'])])\n",
    "# df.iat[0, 1] = 0  --set location"
   ]
  },
  {
   "cell_type": "code",
   "execution_count": 155,
   "metadata": {},
   "outputs": [
    {
     "name": "stdout",
     "output_type": "stream",
     "text": [
      "                   A         B         C         D\n2013-01-01  0.164274  0.226208  0.502027  0.183202\n2013-01-02  1.123165  0.310124  0.633800  0.014461\n2013-01-03  0.609856  0.709265  0.359409  0.192510\n2013-01-04  0.408292  0.221698  0.206439  0.601672\n2013-01-05  0.545074  0.463481  0.060945  0.595645\n2013-01-06  0.421210  0.077895  0.058574  0.800414\n"
     ]
    }
   ],
   "source": [
    "df[df < 0] = -df\n",
    "print(df)"
   ]
  },
  {
   "cell_type": "code",
   "execution_count": 4,
   "metadata": {},
   "outputs": [
    {
     "data": {
      "text/html": [
       "<div>\n",
       "<style scoped>\n",
       "    .dataframe tbody tr th:only-of-type {\n",
       "        vertical-align: middle;\n",
       "    }\n",
       "\n",
       "    .dataframe tbody tr th {\n",
       "        vertical-align: top;\n",
       "    }\n",
       "\n",
       "    .dataframe thead th {\n",
       "        text-align: right;\n",
       "    }\n",
       "</style>\n",
       "<table border=\"1\" class=\"dataframe\">\n",
       "  <thead>\n",
       "    <tr style=\"text-align: right;\">\n",
       "      <th></th>\n",
       "      <th>A</th>\n",
       "      <th>B</th>\n",
       "      <th>C</th>\n",
       "      <th>D</th>\n",
       "    </tr>\n",
       "  </thead>\n",
       "  <tbody>\n",
       "    <tr>\n",
       "      <th>0</th>\n",
       "      <td>-0.260710</td>\n",
       "      <td>2.012426</td>\n",
       "      <td>-0.983352</td>\n",
       "      <td>-0.840761</td>\n",
       "    </tr>\n",
       "    <tr>\n",
       "      <th>1</th>\n",
       "      <td>0.016985</td>\n",
       "      <td>0.472143</td>\n",
       "      <td>-0.452083</td>\n",
       "      <td>-0.553454</td>\n",
       "    </tr>\n",
       "    <tr>\n",
       "      <th>2</th>\n",
       "      <td>-0.797740</td>\n",
       "      <td>-0.932179</td>\n",
       "      <td>-0.120345</td>\n",
       "      <td>-0.469060</td>\n",
       "    </tr>\n",
       "    <tr>\n",
       "      <th>3</th>\n",
       "      <td>-0.260398</td>\n",
       "      <td>-1.234067</td>\n",
       "      <td>0.984015</td>\n",
       "      <td>-0.533827</td>\n",
       "    </tr>\n",
       "    <tr>\n",
       "      <th>4</th>\n",
       "      <td>-1.535116</td>\n",
       "      <td>0.775688</td>\n",
       "      <td>1.215256</td>\n",
       "      <td>-3.389297</td>\n",
       "    </tr>\n",
       "    <tr>\n",
       "      <th>5</th>\n",
       "      <td>0.912181</td>\n",
       "      <td>0.971262</td>\n",
       "      <td>1.349575</td>\n",
       "      <td>1.754676</td>\n",
       "    </tr>\n",
       "    <tr>\n",
       "      <th>6</th>\n",
       "      <td>-2.558229</td>\n",
       "      <td>0.758910</td>\n",
       "      <td>-0.055621</td>\n",
       "      <td>0.658454</td>\n",
       "    </tr>\n",
       "    <tr>\n",
       "      <th>7</th>\n",
       "      <td>-0.940878</td>\n",
       "      <td>0.494694</td>\n",
       "      <td>0.775775</td>\n",
       "      <td>0.385695</td>\n",
       "    </tr>\n",
       "  </tbody>\n",
       "</table>\n",
       "</div>"
      ],
      "text/plain": [
       "<div>\n",
       "<style scoped>\n",
       "    .dataframe tbody tr th:only-of-type {\n",
       "        vertical-align: middle;\n",
       "    }\n",
       "\n",
       "    .dataframe tbody tr th {\n",
       "        vertical-align: top;\n",
       "    }\n",
       "\n",
       "    .dataframe thead th {\n",
       "        text-align: right;\n",
       "    }\n",
       "</style>\n",
       "<table border=\"1\" class=\"dataframe\">\n",
       "  <thead>\n",
       "    <tr style=\"text-align: right;\">\n",
       "      <th></th>\n",
       "      <th>A</th>\n",
       "      <th>B</th>\n",
       "      <th>C</th>\n",
       "      <th>D</th>\n",
       "    </tr>\n",
       "  </thead>\n",
       "  <tbody>\n",
       "    <tr>\n",
       "      <th>0</th>\n",
       "      <td>-0.260710</td>\n",
       "      <td>2.012426</td>\n",
       "      <td>-0.983352</td>\n",
       "      <td>-0.840761</td>\n",
       "    </tr>\n",
       "    <tr>\n",
       "      <th>1</th>\n",
       "      <td>0.016985</td>\n",
       "      <td>0.472143</td>\n",
       "      <td>-0.452083</td>\n",
       "      <td>-0.553454</td>\n",
       "    </tr>\n",
       "    <tr>\n",
       "      <th>2</th>\n",
       "      <td>-0.797740</td>\n",
       "      <td>-0.932179</td>\n",
       "      <td>-0.120345</td>\n",
       "      <td>-0.469060</td>\n",
       "    </tr>\n",
       "    <tr>\n",
       "      <th>3</th>\n",
       "      <td>-0.260398</td>\n",
       "      <td>-1.234067</td>\n",
       "      <td>0.984015</td>\n",
       "      <td>-0.533827</td>\n",
       "    </tr>\n",
       "    <tr>\n",
       "      <th>4</th>\n",
       "      <td>-1.535116</td>\n",
       "      <td>0.775688</td>\n",
       "      <td>1.215256</td>\n",
       "      <td>-3.389297</td>\n",
       "    </tr>\n",
       "    <tr>\n",
       "      <th>5</th>\n",
       "      <td>0.912181</td>\n",
       "      <td>0.971262</td>\n",
       "      <td>1.349575</td>\n",
       "      <td>1.754676</td>\n",
       "    </tr>\n",
       "    <tr>\n",
       "      <th>6</th>\n",
       "      <td>-2.558229</td>\n",
       "      <td>0.758910</td>\n",
       "      <td>-0.055621</td>\n",
       "      <td>0.658454</td>\n",
       "    </tr>\n",
       "    <tr>\n",
       "      <th>7</th>\n",
       "      <td>-0.940878</td>\n",
       "      <td>0.494694</td>\n",
       "      <td>0.775775</td>\n",
       "      <td>0.385695</td>\n",
       "    </tr>\n",
       "  </tbody>\n",
       "</table>\n",
       "</div>"
      ]
     },
     "execution_count": 4,
     "metadata": {},
     "output_type": "execute_result"
    }
   ],
   "source": [
    "df.dropna(how='any') #drop missing data (NaN)\n",
    "df.fillna(value=5) #fill missing data (NaN)"
   ]
  },
  {
   "cell_type": "code",
   "execution_count": 3,
   "metadata": {},
   "outputs": [
    {
     "name": "stdout",
     "output_type": "stream",
     "text": [
      "          A         B         C         D\n0 -0.260710  2.012426 -0.983352 -0.840761\n1  0.016985  0.472143 -0.452083 -0.553454\n2 -0.797740 -0.932179 -0.120345 -0.469060\n3 -0.260398 -1.234067  0.984015 -0.533827\n4 -1.535116  0.775688  1.215256 -3.389297\n5  0.912181  0.971262  1.349575  1.754676\n6 -2.558229  0.758910 -0.055621  0.658454\n7 -0.940878  0.494694  0.775775  0.385695\n"
     ]
    }
   ],
   "source": [
    "df = pd.DataFrame(np.random.randn(8, 4), columns=['A', 'B', 'C', 'D'])\n",
    "print(df)"
   ]
  },
  {
   "cell_type": "code",
   "execution_count": 7,
   "metadata": {},
   "outputs": [
    {
     "name": "stdout",
     "output_type": "stream",
     "text": [
      "     A      B         C         D\n0  foo    one -0.236809 -1.876826\n1  bar    one -1.071322 -2.496502\n2  foo    two  1.403935  2.369630\n3  bar  three -1.346662 -1.854155\n4  foo    two -0.760024  0.653604\n5  bar    two -1.365279 -0.527546\n6  foo    one  0.030875 -0.481934\n7  foo  three  0.073679  0.356013\n"
     ]
    }
   ],
   "source": [
    "s = df.iloc[3]\n",
    "\n",
    "df.append(s, ignore_index=True)\n",
    "\n",
    "print(df)"
   ]
  },
  {
   "cell_type": "code",
   "execution_count": 6,
   "metadata": {},
   "outputs": [
    {
     "name": "stdout",
     "output_type": "stream",
     "text": [
      "            C         D\nA                      \nbar -3.783262 -4.878203\nfoo  0.511656  1.020487\n"
     ]
    }
   ],
   "source": [
    "df = pd.DataFrame({'A': ['foo', 'bar', 'foo', 'bar',\n",
    "                         'foo', 'bar', 'foo', 'foo'],\n",
    "                   'B': ['one', 'one', 'two', 'three',\n",
    "                         'two', 'two', 'one', 'three'],\n",
    "                   'C': np.random.randn(8),\n",
    "                   'D': np.random.randn(8)})\n",
    "print(df.groupby('A').sum())"
   ]
  },
  {
   "cell_type": "code",
   "execution_count": 13,
   "metadata": {},
   "outputs": [
    {
     "name": "stdout",
     "output_type": "stream",
     "text": [
      "            C         D\nA                      \nbar -3.783262 -4.878203\nfoo  0.511656  1.020487\n"
     ]
    }
   ],
   "source": [
    "print(df.groupby('A').sum())"
   ]
  },
  {
   "cell_type": "code",
   "execution_count": 14,
   "metadata": {},
   "outputs": [
    {
     "name": "stdout",
     "output_type": "stream",
     "text": [
      "                  C         D\nA   B                        \nbar one   -1.071322 -2.496502\n    three -1.346662 -1.854155\n    two   -1.365279 -0.527546\nfoo one   -0.205934 -2.358760\n    three  0.073679  0.356013\n    two    0.643911  3.023234\n"
     ]
    }
   ],
   "source": [
    "print(df.groupby(['A', 'B']).sum())"
   ]
  },
  {
   "cell_type": "code",
   "execution_count": 16,
   "metadata": {},
   "outputs": [
    {
     "name": "stdout",
     "output_type": "stream",
     "text": [
      "                  C         D\nA   B                        \nbar one   -1.071322 -2.496502\n    three -1.346662 -1.854155\n    two   -1.365279 -0.527546\nfoo one   -0.205934 -2.358760\n    three  0.073679  0.356013\n    two    0.643911  3.023234\n"
     ]
    }
   ],
   "source": [
    "print(df.groupby(['A', 'B']).sum())"
   ]
  },
  {
   "cell_type": "code",
   "execution_count": 20,
   "metadata": {},
   "outputs": [
    {
     "name": "stdout",
     "output_type": "stream",
     "text": [
      "                     A         B\nfirst second                    \nbar   one     0.281499  0.373480\n      two    -0.747074  1.137719\nbaz   one    -1.298807  1.252030\n      two     1.370114 -1.038226\nfoo   one     0.429620 -0.738014\n      two     0.312051 -1.274835\nqux   one    -0.442799  0.629779\n      two    -0.995176  1.047575\n"
     ]
    }
   ],
   "source": [
    "tuples = list(zip(*[['bar', 'bar', 'baz', 'baz',\n",
    "                     'foo', 'foo', 'qux', 'qux'],\n",
    "                    ['one', 'two', 'one', 'two',\n",
    "                     'one', 'two', 'one', 'two']]))\n",
    "\n",
    "index = pd.MultiIndex.from_tuples(tuples, names=['first', 'second'])\n",
    "df = pd.DataFrame(np.random.randn(8, 2), index=index, columns=['A', 'B'])\n",
    "print(df)\n"
   ]
  },
  {
   "cell_type": "code",
   "execution_count": 22,
   "metadata": {},
   "outputs": [
    {
     "name": "stdout",
     "output_type": "stream",
     "text": [
      "first  second   \nbar    one     A    0.281499\n               B    0.373480\n       two     A   -0.747074\n               B    1.137719\nbaz    one     A   -1.298807\n               B    1.252030\n       two     A    1.370114\n               B   -1.038226\nfoo    one     A    0.429620\n               B   -0.738014\n       two     A    0.312051\n               B   -1.274835\nqux    one     A   -0.442799\n               B    0.629779\n       two     A   -0.995176\n               B    1.047575\ndtype: float64\n"
     ]
    }
   ],
   "source": [
    "print(df.stack())  # make 2d for 'A' and 'B'  unstack()\n"
   ]
  },
  {
   "cell_type": "code",
   "execution_count": 31,
   "metadata": {
    "collapsed": false
   },
   "outputs": [
    {
     "name": "stdout",
     "output_type": "stream",
     "text": [
      "2012-01-01 00:00:00     23\n2012-01-01 00:00:01    337\n2012-01-01 00:00:02    345\n2012-01-01 00:00:03    285\n2012-01-01 00:00:04    175\n2012-01-01 00:00:05      1\n2012-01-01 00:00:06     98\n2012-01-01 00:00:07    418\n2012-01-01 00:00:08    449\n2012-01-01 00:00:09    173\nFreq: S, dtype: int32\n2012-01-01 00:00:00    12942\n2012-01-01 00:01:00     9873\nFreq: T, dtype: int32\n"
     ]
    }
   ],
   "source": [
    "rng = pd.date_range('1/1/2012', periods=100, freq='S')\n",
    "\n",
    "ts = pd.Series(np.random.randint(0, 500, len(rng)), index=rng)\n",
    "\n",
    "print(ts.head(10))\n",
    "\n",
    "print(ts.resample('1Min').sum())"
   ]
  },
  {
   "cell_type": "code",
   "execution_count": 32,
   "metadata": {},
   "outputs": [
    {
     "name": "stdout",
     "output_type": "stream",
     "text": [
      "2012-03-06 00:00:00+00:00    0.867166\n2012-03-07 00:00:00+00:00    0.364536\n2012-03-08 00:00:00+00:00   -0.872213\n2012-03-09 00:00:00+00:00   -0.741548\n2012-03-10 00:00:00+00:00    2.121447\nFreq: D, dtype: float64\n"
     ]
    }
   ],
   "source": [
    "rng = pd.date_range('3/6/2012 00:00', periods=5, freq='D')\n",
    "\n",
    "ts = pd.Series(np.random.randn(len(rng)), rng)\n",
    "\n",
    "ts_utc = ts.tz_localize('UTC')\n",
    "\n",
    "print(ts_utc)"
   ]
  },
  {
   "cell_type": "code",
   "execution_count": null,
   "metadata": {},
   "outputs": [
    {
     "data": {
      "text/plain": [
       "2012-03-05 19:00:00-05:00    0.867166\n2012-03-06 19:00:00-05:00    0.364536\n2012-03-07 19:00:00-05:00   -0.872213\n2012-03-08 19:00:00-05:00   -0.741548\n2012-03-09 19:00:00-05:00    2.121447\nFreq: D, dtype: float64"
      ]
     },
     "execution_count": 35,
     "metadata": {},
     "output_type": "execute_result"
    }
   ],
   "source": [
    "ts_utc.tz_convert('US/Eastern')"
   ]
  },
  {
   "cell_type": "code",
   "execution_count": 8,
   "metadata": {},
   "outputs": [
    {
     "name": "stdout",
     "output_type": "stream",
     "text": [
      "2012-01   -0.908222\n2012-02    0.667695\n2012-03   -0.133558\n2012-04    2.012532\n2012-05   -0.979375\nFreq: M, dtype: float64 \n\n2012-01-01   -0.908222\n2012-02-01    0.667695\n2012-03-01   -0.133558\n2012-04-01    2.012532\n2012-05-01   -0.979375\nFreq: MS, dtype: float64\n"
     ]
    }
   ],
   "source": [
    "rng = pd.date_range('1/1/2012', periods=5, freq='M')\n",
    "\n",
    "ts = pd.Series(np.random.randn(len(rng)), index=rng)\n",
    "\n",
    "ps = ts.to_period()\n",
    "print(ps, '\\n')\n",
    "\n",
    "print(ps.to_timestamp())\n"
   ]
  },
  {
   "cell_type": "code",
   "execution_count": 13,
   "metadata": {},
   "outputs": [
    {
     "name": "stdout",
     "output_type": "stream",
     "text": [
      "PeriodIndex(['1990Q1', '1990Q2', '1990Q3', '1990Q4', '1991Q1', '1991Q2',\n             '1991Q3', '1991Q4', '1992Q1', '1992Q2', '1992Q3', '1992Q4',\n             '1993Q1', '1993Q2', '1993Q3', '1993Q4', '1994Q1', '1994Q2',\n             '1994Q3', '1994Q4', '1995Q1', '1995Q2', '1995Q3', '1995Q4',\n             '1996Q1', '1996Q2', '1996Q3', '1996Q4', '1997Q1', '1997Q2',\n             '1997Q3', '1997Q4', '1998Q1', '1998Q2', '1998Q3', '1998Q4',\n             '1999Q1', '1999Q2', '1999Q3', '1999Q4', '2000Q1', '2000Q2',\n             '2000Q3', '2000Q4'],\n            dtype='period[Q-NOV]', freq='Q-NOV') \n\n1990-03-01 09:00    0.034743\n1990-06-01 09:00    0.965426\n1990-09-01 09:00   -1.653522\n1990-12-01 09:00    0.637089\n1991-03-01 09:00   -0.416178\nFreq: H, dtype: float64\n"
     ]
    }
   ],
   "source": [
    "prng = pd.period_range('1990Q1', '2000Q4', freq='Q-NOV')\n",
    "\n",
    "ts = pd.Series(np.random.randn(len(prng)), prng)\n",
    "\n",
    "ts.index = (prng.asfreq('M', 'e') + 1).asfreq('H', 's') + 9\n",
    "\n",
    "print(prng, '\\n')\n",
    "\n",
    "print(ts.head())\n",
    "\n"
   ]
  },
  {
   "cell_type": "code",
   "execution_count": 14,
   "metadata": {},
   "outputs": [
    {
     "name": "stdout",
     "output_type": "stream",
     "text": [
      "   id raw_grade\n0   1         a\n1   2         b\n2   3         b\n3   4         a\n4   5         a\n5   6         e \n\n   id raw_grade grade\n0   1         a     a\n1   2         b     b\n2   3         b     b\n3   4         a     a\n4   5         a     a\n5   6         e     e\n"
     ]
    }
   ],
   "source": [
    "df = pd.DataFrame({ \"id\": [1, 2, 3, 4, 5, 6],\n",
    "                    \"raw_grade\": ['a', 'b', 'b', 'a', 'a', 'e'] })\n",
    "\n",
    "print(df, '\\n')\n",
    "\n",
    "df[\"grade\"] = df[\"raw_grade\"].astype(\"category\")\n",
    "\n",
    "print(df)"
   ]
  },
  {
   "cell_type": "code",
   "execution_count": 15,
   "metadata": {},
   "outputs": [
    {
     "name": "stdout",
     "output_type": "stream",
     "text": [
      "   id raw_grade      grade\n0   1         a  very good\n1   2         b       good\n2   3         b       good\n3   4         a  very good\n4   5         a  very good\n5   6         e   very bad\n"
     ]
    }
   ],
   "source": [
    "df[\"grade\"].cat.categories = [\"very good\", \"good\", \"very bad\"]\n",
    "\n",
    "print(df)"
   ]
  },
  {
   "cell_type": "code",
   "execution_count": 20,
   "metadata": {},
   "outputs": [
    {
     "name": "stdout",
     "output_type": "stream",
     "text": [
      "0    very good\n1         good\n2         good\n3    very good\n4    very good\n5     very bad\nName: grade, dtype: category\nCategories (5, object): [very bad, bad, medium, good, very good] \n\n   id raw_grade      grade\n5   6         e   very bad\n1   2         b       good\n2   3         b       good\n0   1         a  very good\n3   4         a  very good\n4   5         a  very good\n"
     ]
    }
   ],
   "source": [
    "df[\"grade\"] = df[\"grade\"].cat.set_categories([\"very bad\", \"bad\", \"medium\",\n",
    "                                              \"good\", \"very good\"])\n",
    "print(df[\"grade\"], '\\n')\n",
    "\n",
    "print(df.sort_values(by=\"grade\"))"
   ]
  },
  {
   "cell_type": "code",
   "execution_count": 24,
   "metadata": {},
   "outputs": [
    {
     "name": "stdout",
     "output_type": "stream",
     "text": [
      "           id\ngrade        \nvery bad    6\nbad         0\nmedium      0\ngood        5\nvery good  10\n"
     ]
    }
   ],
   "source": [
    "print(df.groupby(\"grade\").sum())"
   ]
  },
  {
   "cell_type": "code",
   "execution_count": 28,
   "metadata": {
    "collapsed": false
   },
   "outputs": [
    {
     "data": {
      "text/plain": [
       "<matplotlib.axes._subplots.AxesSubplot at 0x217123d67b8>"
      ]
     },
     "execution_count": 28,
     "metadata": {},
     "output_type": "execute_result"
    },
    {
     "data": {
      "image/png": "[encoded data removed]",
      "text/plain": [
       "<Figure size 432x288 with 1 Axes>"
      ]
     },
     "metadata": {},
     "output_type": "display_data"
    }
   ],
   "source": [
    "ts = pd.Series(np.random.randn(1000),\n",
    "               index=pd.date_range('1/1/2000', periods=1000))\n",
    "\n",
    "ts = ts.cumsum()\n",
    "\n",
    "ts.plot()"
   ]
  },
  {
   "cell_type": "code",
   "execution_count": 43,
   "metadata": {},
   "outputs": [
    {
     "name": "stdout",
     "output_type": "stream",
     "text": [
      "                    A          B          C          D\n2000-01-01  -1.548879  -0.350534  -0.630698   0.533967\n2000-01-02  -3.080401  -0.639044   0.422391  -0.757681\n2000-01-03  -1.246253  -1.869421  -0.966225  -0.943018\n2000-01-04  -0.707045  -1.029061  -1.122801   0.684035\n2000-01-05  -1.091622  -0.533960   1.460326  -1.373793\n2000-01-06  -2.426816   0.501647   1.934491  -1.480512\n2000-01-07  -4.629420   0.048403   1.292389  -1.571389\n2000-01-08  -3.671269  -0.550167  -0.013623  -2.805597\n2000-01-09  -4.334290   0.527893   1.435038  -2.546507\n2000-01-10  -5.652823   0.422766  -0.454521  -3.770023\n2000-01-11  -6.594649   0.558948  -0.901079  -3.624994\n2000-01-12  -5.735597   0.947364  -1.170607  -3.155966\n2000-01-13  -5.701901   2.611451  -3.377196   0.027700\n2000-01-14  -5.654575   2.493013  -2.804410  -0.106900\n2000-01-15  -6.381201   3.919750  -1.991620   0.612179\n2000-01-16  -6.516333   4.947644  -3.180791  -0.151993\n2000-01-17  -7.603715   3.944847  -3.894475  -0.409830\n2000-01-18  -5.745745   5.580399  -5.354052   0.338280\n2000-01-19  -5.440494   6.255442  -4.636210   0.565234\n2000-01-20  -5.836358   4.201964  -5.517102   2.396178\n2000-01-21  -5.830080   3.094158  -6.777484   3.390010\n2000-01-22  -5.827731   3.398168  -5.334716   4.185462\n2000-01-23  -4.406975   1.644801  -5.893775   4.861031\n2000-01-24  -4.844045  -0.053377  -6.464336   3.233148\n2000-01-25  -3.507836   0.807468  -7.073123   3.995964\n2000-01-26  -3.488099   2.823419  -7.113307   4.571532\n2000-01-27  -1.855829   0.829576  -7.650324   4.462526\n2000-01-28  -3.165615   1.549987  -7.388659   4.081320\n2000-01-29  -2.398013  -0.411139  -6.952670   4.639674\n2000-01-30  -2.681440  -0.867410  -7.581692   5.268173\n...               ...        ...        ...        ...\n2002-08-28 -12.256909 -42.877151  18.982479  51.950404\n2002-08-29 -11.272704 -43.069626  19.469115  50.841315\n2002-08-30 -11.082159 -43.190077  18.909078  50.902263\n2002-08-31 -10.773297 -43.049095  19.071606  49.522198\n2002-09-01 -10.967158 -42.503620  17.884923  49.668948\n2002-09-02 -11.304777 -40.673356  16.074110  52.384992\n2002-09-03 -12.899779 -39.403285  16.932021  51.651338\n2002-09-04 -12.770511 -39.393017  15.297554  50.756122\n2002-09-05 -13.163455 -41.508716  14.374308  50.780366\n2002-09-06 -14.214163 -39.883036  12.540796  51.036296\n2002-09-07 -14.090456 -39.034422  12.163483  51.211680\n2002-09-08 -13.288686 -40.089859  11.947437  49.101446\n2002-09-09 -14.468713 -38.584324  12.661991  48.969277\n2002-09-10 -14.564260 -38.405342  12.516444  48.228151\n2002-09-11 -13.884942 -36.806993  13.494400  47.874913\n2002-09-12 -14.625854 -36.350641  12.417681  49.120478\n2002-09-13 -14.504449 -34.895562  11.294586  50.458891\n2002-09-14 -14.265997 -36.795266  10.462557  49.905182\n2002-09-15 -12.860749 -38.389151   9.421120  48.258299\n2002-09-16  -9.511196 -38.636188   9.314657  47.027461\n2002-09-17  -9.631153 -38.775069   8.821325  46.451118\n2002-09-18  -9.480873 -39.277426   8.389096  46.497919\n2002-09-19  -9.961787 -38.997791   7.044616  46.485381\n2002-09-20 -10.641802 -37.953967   9.112156  43.356016\n2002-09-21 -10.741914 -38.965709   9.012539  42.908824\n2002-09-22 -11.308292 -39.740600   9.551758  42.775180\n2002-09-23 -12.273895 -39.425585   8.304560  43.300222\n2002-09-24 -11.642840 -39.270955   8.374297  43.275412\n2002-09-25 -11.296639 -40.764290   9.633735  42.245491\n2002-09-26 -11.452852 -40.012792   9.064947  42.874975\n\n[2000 rows x 4 columns]\n"
     ]
    },
    {
     "data": {
      "text/plain": [
       "<matplotlib.axes._subplots.AxesSubplot at 0x21715cdb048>"
      ]
     },
     "execution_count": 43,
     "metadata": {},
     "output_type": "execute_result"
    },
    {
     "data": {
      "image/png": "[encoded data removed]",
      "text/plain": [
       "<Figure size 432x288 with 1 Axes>"
      ]
     },
     "metadata": {},
     "output_type": "display_data"
    }
   ],
   "source": [
    "df = pd.DataFrame(np.random.randn(2000, 4), index=ts.index.append(ts.index),\n",
    "                  columns=['A', 'B', 'C', 'D'])\n",
    "\n",
    "df = df.cumsum()\n",
    "\n",
    "print(df)\n",
    "\n",
    "df.plot()"
   ]
  },
  {
   "cell_type": "code",
   "execution_count": 38,
   "metadata": {},
   "outputs": [],
   "source": [
    "df.to_csv('foo.csv') #write to csv"
   ]
  },
  {
   "cell_type": "code",
   "execution_count": 38,
   "metadata": {},
   "outputs": [],
   "source": [
    "pd.read_csv('foo.csv')  # reaf grom csv\n"
   ]
  },
  {
   "cell_type": "code",
   "execution_count": null,
   "metadata": {},
   "outputs": [],
   "source": []
  }
 ],
 "metadata": {
  "kernelspec": {
   "display_name": "Python 2",
   "language": "python",
   "name": "python2"
  },
  "language_info": {
   "codemirror_mode": {
    "name": "ipython",
    "version": 2
   },
   "file_extension": ".py",
   "mimetype": "text/x-python",
   "name": "python",
   "nbconvert_exporter": "python",
   "pygments_lexer": "ipython2",
   "version": "2.7.6"
  }
 },
 "nbformat": 4,
 "nbformat_minor": 0
}
