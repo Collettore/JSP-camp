{
 "cells": [
  {
   "cell_type": "code",
   "execution_count": 2,
   "metadata": {},
   "outputs": [
    {
     "data": {
      "text/plain": [
       "0      1\n1      2\n2      3\n3     ad\n4      3\n5    NaN\ndtype: object"
      ]
     },
     "execution_count": 2,
     "metadata": {},
     "output_type": "execute_result"
    }
   ],
   "source": [
    "import numpy as np\n",
    "\n",
    "import pandas as pd\n",
    "\n",
    "#creaton series\n",
    "s = pd.Series([1, 2, 3, 'ad', 3, np.nan])\n",
    "s"
   ]
  },
  {
   "cell_type": "code",
   "execution_count": 104,
   "metadata": {},
   "outputs": [
    {
     "name": "stdout",
     "output_type": "stream",
     "text": [
      "                   A         B         C         D\n2013-01-01  0.328548  0.452415  1.004055 -0.366403\n2013-01-02  2.246330  0.620248 -1.267600 -0.028922\n2013-01-03 -1.219712 -1.418529 -0.718819 -0.385020\n2013-01-04 -0.816584 -0.443397 -0.412879  1.203345\n2013-01-05 -1.090148  0.926962 -0.121889 -1.191289\n2013-01-06  0.842420  0.155791  0.117149  1.600828\n\n\n[[ 0.32854758  0.45241511  1.00405488 -0.3664033 ]\n [ 2.24633041  0.62024808 -1.26759982 -0.02892201]\n [-1.21971185 -1.41852945 -0.71881861 -0.38502048]\n [-0.8165839  -0.44339665 -0.41287899  1.20334491]\n [-1.09014801  0.92696183 -0.12188911 -1.19128916]\n [ 0.84242     0.15579051  0.11714855  1.60082798]]\n"
     ]
    }
   ],
   "source": [
    "#creating DataFrame\n",
    "dates = pd.date_range('20130101', periods=6)\n",
    "dates[1]\n",
    "\n",
    "arr = np.random.randn(6, 4)\n",
    "\n",
    "df = pd.DataFrame(arr, index=dates, columns=list('ABCD'))\n",
    "\n",
    "print(df)\n",
    "print('\\n')\n",
    "print(arr)\n"
   ]
  },
  {
   "cell_type": "code",
   "execution_count": null,
   "metadata": {},
   "outputs": [],
   "source": [
    "df2 = pd.DataFrame({ 'A': 1.,\n",
    "                    'B': pd.Timestamp('20130102'),\n",
    "                    'C': pd.Series(1, index=list(range(4)),  dtype='float32'),\n",
    "                    'D': np.array([3] * 4, dtype='int32'),\n",
    "                    'E': pd.Categorical([\"test\", \"train\", \"test\", \"train\"]),\n",
    "                    'F': 'foo' })\n",
    "\n",
    "print(df2)\n",
    "df2.dtypes\n"
   ]
  },
  {
   "cell_type": "code",
   "execution_count": 21,
   "metadata": {},
   "outputs": [
    {
     "data": {
      "text/plain": [
       "<bound method NDFrame.bool of      A          B    C  D      E    F\n0  1.0 2013-01-02  1.0  3   test  foo\n1  1.0 2013-01-02  1.0  3  train  foo\n2  1.0 2013-01-02  1.0  3   test  foo\n3  1.0 2013-01-02  1.0  3  train  foo>"
      ]
     },
     "execution_count": 21,
     "metadata": {},
     "output_type": "execute_result"
    }
   ],
   "source": [
    "df2.bool\n",
    "#?????"
   ]
  },
  {
   "cell_type": "code",
   "execution_count": 54,
   "metadata": {
    "collapsed": false
   },
   "outputs": [
    {
     "name": "stdout",
     "output_type": "stream",
     "text": [
      "Int64Index([0, 1, 2, 3], dtype='int64')\nIndex(['A', 'B', 'C', 'D', 'E', 'F'], dtype='object')\n"
     ]
    }
   ],
   "source": [
    "df2.index\n",
    "print(df2.index)\n",
    "print(df2.columns)"
   ]
  },
  {
   "cell_type": "code",
   "execution_count": 66,
   "metadata": {},
   "outputs": [
    {
     "name": "stdout",
     "output_type": "stream",
     "text": [
      "[[ 0.6032665  -0.30680373  1.04752604  1.01139537]\n [-1.15556476  2.19935779  0.48415873  0.34060081]\n [-1.52512485 -1.35054179  0.1795713   0.57894288]\n [-1.80285745 -1.63013592  0.2541295   0.79628418]\n [-1.24507426 -3.22389845 -0.32974278 -0.71804825]\n [ 2.2827239  -2.34253151 -1.10221432 -1.22875152]] \n\n[[1.0 Timestamp('2013-01-02 00:00:00') 1.0 3 'test' 'foo']\n [1.0 Timestamp('2013-01-02 00:00:00') 1.0 3 'train' 'foo']\n [1.0 Timestamp('2013-01-02 00:00:00') 1.0 3 'test' 'foo']\n [1.0 Timestamp('2013-01-02 00:00:00') 1.0 3 'train' 'foo']]\n\n\n   2013-01-01  2013-01-02  2013-01-03  2013-01-04  2013-01-05  2013-01-06\nA    0.603267   -1.155565   -1.525125   -1.802857   -1.245074    2.282724\nB   -0.306804    2.199358   -1.350542   -1.630136   -3.223898   -2.342532\nC    1.047526    0.484159    0.179571    0.254129   -0.329743   -1.102214\nD    1.011395    0.340601    0.578943    0.796284   -0.718048   -1.228752\n"
     ]
    }
   ],
   "source": [
    "\n",
    "print(df.to_numpy(), '\\n')\n",
    "print(df2.to_numpy())\n",
    "print('\\n')\n",
    "print(df.T)"
   ]
  },
  {
   "cell_type": "code",
   "execution_count": 65,
   "metadata": {},
   "outputs": [
    {
     "name": "stdout",
     "output_type": "stream",
     "text": [
      "              A         B         C         D\ncount  6.000000  6.000000  6.000000  6.000000\nmean  -0.473772 -1.109092  0.088905  0.130071\nstd    1.593100  1.892779  0.735490  0.898007\nmin   -1.802857 -3.223898 -1.102214 -1.228752\n25%   -1.455112 -2.164433 -0.202414 -0.453386\n50%   -1.200320 -1.490339  0.216850  0.459772\n75%    0.163559 -0.567738  0.426651  0.741949\nmax    2.282724  2.199358  1.047526  1.011395\n\n\n   2013-01-01  2013-01-02  2013-01-03  2013-01-04  2013-01-05  2013-01-06\nA    0.603267   -1.155565   -1.525125   -1.802857   -1.245074    2.282724\nB   -0.306804    2.199358   -1.350542   -1.630136   -3.223898   -2.342532\nC    1.047526    0.484159    0.179571    0.254129   -0.329743   -1.102214\nD    1.011395    0.340601    0.578943    0.796284   -0.718048   -1.228752\n"
     ]
    }
   ],
   "source": [
    "print(df.describe())"
   ]
  },
  {
   "cell_type": "code",
   "execution_count": 68,
   "metadata": {},
   "outputs": [
    {
     "name": "stdout",
     "output_type": "stream",
     "text": [
      "                   A         B         C         D\n2013-01-05 -1.245074 -3.223898 -0.329743 -0.718048\n2013-01-06  2.282724 -2.342532 -1.102214 -1.228752\n2013-01-04 -1.802857 -1.630136  0.254129  0.796284\n2013-01-03 -1.525125 -1.350542  0.179571  0.578943\n2013-01-01  0.603267 -0.306804  1.047526  1.011395\n2013-01-02 -1.155565  2.199358  0.484159  0.340601\n"
     ]
    }
   ],
   "source": [
    "print(df.sort_values(by='B'))"
   ]
  },
  {
   "cell_type": "code",
   "execution_count": 69,
   "metadata": {},
   "outputs": [
    {
     "name": "stdout",
     "output_type": "stream",
     "text": [
      "2013-01-01    0.603267\n2013-01-02   -1.155565\n2013-01-03   -1.525125\n2013-01-04   -1.802857\n2013-01-05   -1.245074\n2013-01-06    2.282724\nFreq: D, Name: A, dtype: float64\n"
     ]
    }
   ],
   "source": [
    "ser = pd.Series(df['A'])\n",
    "print(ser)"
   ]
  },
  {
   "cell_type": "code",
   "execution_count": 84,
   "metadata": {},
   "outputs": [
    {
     "name": "stdout",
     "output_type": "stream",
     "text": [
      "                   A         B         C         D\n2013-01-01  0.603267 -0.306804  1.047526  1.011395\n2013-01-02 -1.155565  2.199358  0.484159  0.340601\n                   A         B         C         D\n2013-01-02 -1.155565  2.199358  0.484159  0.340601\n2013-01-03 -1.525125 -1.350542  0.179571  0.578943\n2013-01-04 -1.802857 -1.630136  0.254129  0.796284\n"
     ]
    }
   ],
   "source": [
    "print(df[0:2])\n",
    "print(df['20130102':'20130104'])"
   ]
  },
  {
   "cell_type": "code",
   "execution_count": 106,
   "metadata": {},
   "outputs": [
    {
     "name": "stdout",
     "output_type": "stream",
     "text": [
      "A    2.246330\nB    0.620248\nC   -1.267600\nD   -0.028922\nName: 2013-01-02 00:00:00, dtype: float64\n"
     ]
    }
   ],
   "source": [
    "print(df.loc['20130102'])"
   ]
  },
  {
   "cell_type": "code",
   "execution_count": 99,
   "metadata": {},
   "outputs": [
    {
     "name": "stdout",
     "output_type": "stream",
     "text": [
      "     A          B\n0  1.0 2013-01-02\n1  1.0 2013-01-02\n2  1.0 2013-01-02\n3  1.0 2013-01-02\n"
     ]
    }
   ],
   "source": [
    "print(df2.loc[:, ['A', 'B']])"
   ]
  },
  {
   "cell_type": "code",
   "execution_count": 112,
   "metadata": {},
   "outputs": [
    {
     "name": "stdout",
     "output_type": "stream",
     "text": [
      "                   A         B         C         D\n2013-01-01  0.328548  0.452415  1.004055 -0.366403\n2013-01-02  2.246330  0.620248 -1.267600 -0.028922 \n\n                   A         B\n2013-01-04 -0.816584 -0.443397\n2013-01-05 -1.090148  0.926962\n"
     ]
    }
   ],
   "source": [
    "print(df.iloc[0:2], '\\n')\n",
    "\n",
    "print(df.iloc[3:5, 0:2])"
   ]
  },
  {
   "cell_type": "code",
   "execution_count": 114,
   "metadata": {},
   "outputs": [
    {
     "name": "stdout",
     "output_type": "stream",
     "text": [
      "                   A         B         C         D\n2013-01-02  2.246330  0.620248 -1.267600 -0.028922\n2013-01-03 -1.219712 -1.418529 -0.718819 -0.385020\n"
     ]
    }
   ],
   "source": [
    "print(df.iloc[1:3, :])"
   ]
  },
  {
   "cell_type": "code",
   "execution_count": 115,
   "metadata": {},
   "outputs": [
    {
     "name": "stdout",
     "output_type": "stream",
     "text": [
      "0.6202480755622647\n"
     ]
    }
   ],
   "source": [
    "print(df.iat[1, 1])"
   ]
  },
  {
   "cell_type": "code",
   "execution_count": 120,
   "metadata": {},
   "outputs": [
    {
     "name": "stdout",
     "output_type": "stream",
     "text": [
      "                   A         B         C         D\n2013-01-01  0.328548  0.452415  1.004055 -0.366403\n2013-01-02  2.246330  0.620248 -1.267600 -0.028922\n2013-01-06  0.842420  0.155791  0.117149  1.600828\n"
     ]
    }
   ],
   "source": [
    "print(df[df.A > 0])\n"
   ]
  },
  {
   "cell_type": "code",
   "execution_count": 136,
   "metadata": {},
   "outputs": [
    {
     "name": "stdout",
     "output_type": "stream",
     "text": [
      "     A          B    C  D     E    F\n0  1.0 2013-01-02  1.0  3  test  foo\n2  1.0 2013-01-02  1.0  3  test  foo\n"
     ]
    }
   ],
   "source": [
    "print(df2[df2.E.isin(['test'])])\n",
    "# df.iat[0, 1] = 0  --set location"
   ]
  },
  {
   "cell_type": "code",
   "execution_count": 155,
   "metadata": {},
   "outputs": [
    {
     "name": "stdout",
     "output_type": "stream",
     "text": [
      "                   A         B         C         D\n2013-01-01  0.164274  0.226208  0.502027  0.183202\n2013-01-02  1.123165  0.310124  0.633800  0.014461\n2013-01-03  0.609856  0.709265  0.359409  0.192510\n2013-01-04  0.408292  0.221698  0.206439  0.601672\n2013-01-05  0.545074  0.463481  0.060945  0.595645\n2013-01-06  0.421210  0.077895  0.058574  0.800414\n"
     ]
    }
   ],
   "source": [
    "df[df < 0] = -df\n",
    "print(df)"
   ]
  },
  {
   "cell_type": "code",
   "execution_count": 4,
   "metadata": {},
   "outputs": [
    {
     "data": {
      "text/html": [
       "<div>\n",
       "<style scoped>\n",
       "    .dataframe tbody tr th:only-of-type {\n",
       "        vertical-align: middle;\n",
       "    }\n",
       "\n",
       "    .dataframe tbody tr th {\n",
       "        vertical-align: top;\n",
       "    }\n",
       "\n",
       "    .dataframe thead th {\n",
       "        text-align: right;\n",
       "    }\n",
       "</style>\n",
       "<table border=\"1\" class=\"dataframe\">\n",
       "  <thead>\n",
       "    <tr style=\"text-align: right;\">\n",
       "      <th></th>\n",
       "      <th>A</th>\n",
       "      <th>B</th>\n",
       "      <th>C</th>\n",
       "      <th>D</th>\n",
       "    </tr>\n",
       "  </thead>\n",
       "  <tbody>\n",
       "    <tr>\n",
       "      <th>0</th>\n",
       "      <td>-0.260710</td>\n",
       "      <td>2.012426</td>\n",
       "      <td>-0.983352</td>\n",
       "      <td>-0.840761</td>\n",
       "    </tr>\n",
       "    <tr>\n",
       "      <th>1</th>\n",
       "      <td>0.016985</td>\n",
       "      <td>0.472143</td>\n",
       "      <td>-0.452083</td>\n",
       "      <td>-0.553454</td>\n",
       "    </tr>\n",
       "    <tr>\n",
       "      <th>2</th>\n",
       "      <td>-0.797740</td>\n",
       "      <td>-0.932179</td>\n",
       "      <td>-0.120345</td>\n",
       "      <td>-0.469060</td>\n",
       "    </tr>\n",
       "    <tr>\n",
       "      <th>3</th>\n",
       "      <td>-0.260398</td>\n",
       "      <td>-1.234067</td>\n",
       "      <td>0.984015</td>\n",
       "      <td>-0.533827</td>\n",
       "    </tr>\n",
       "    <tr>\n",
       "      <th>4</th>\n",
       "      <td>-1.535116</td>\n",
       "      <td>0.775688</td>\n",
       "      <td>1.215256</td>\n",
       "      <td>-3.389297</td>\n",
       "    </tr>\n",
       "    <tr>\n",
       "      <th>5</th>\n",
       "      <td>0.912181</td>\n",
       "      <td>0.971262</td>\n",
       "      <td>1.349575</td>\n",
       "      <td>1.754676</td>\n",
       "    </tr>\n",
       "    <tr>\n",
       "      <th>6</th>\n",
       "      <td>-2.558229</td>\n",
       "      <td>0.758910</td>\n",
       "      <td>-0.055621</td>\n",
       "      <td>0.658454</td>\n",
       "    </tr>\n",
       "    <tr>\n",
       "      <th>7</th>\n",
       "      <td>-0.940878</td>\n",
       "      <td>0.494694</td>\n",
       "      <td>0.775775</td>\n",
       "      <td>0.385695</td>\n",
       "    </tr>\n",
       "  </tbody>\n",
       "</table>\n",
       "</div>"
      ],
      "text/plain": [
       "<div>\n",
       "<style scoped>\n",
       "    .dataframe tbody tr th:only-of-type {\n",
       "        vertical-align: middle;\n",
       "    }\n",
       "\n",
       "    .dataframe tbody tr th {\n",
       "        vertical-align: top;\n",
       "    }\n",
       "\n",
       "    .dataframe thead th {\n",
       "        text-align: right;\n",
       "    }\n",
       "</style>\n",
       "<table border=\"1\" class=\"dataframe\">\n",
       "  <thead>\n",
       "    <tr style=\"text-align: right;\">\n",
       "      <th></th>\n",
       "      <th>A</th>\n",
       "      <th>B</th>\n",
       "      <th>C</th>\n",
       "      <th>D</th>\n",
       "    </tr>\n",
       "  </thead>\n",
       "  <tbody>\n",
       "    <tr>\n",
       "      <th>0</th>\n",
       "      <td>-0.260710</td>\n",
       "      <td>2.012426</td>\n",
       "      <td>-0.983352</td>\n",
       "      <td>-0.840761</td>\n",
       "    </tr>\n",
       "    <tr>\n",
       "      <th>1</th>\n",
       "      <td>0.016985</td>\n",
       "      <td>0.472143</td>\n",
       "      <td>-0.452083</td>\n",
       "      <td>-0.553454</td>\n",
       "    </tr>\n",
       "    <tr>\n",
       "      <th>2</th>\n",
       "      <td>-0.797740</td>\n",
       "      <td>-0.932179</td>\n",
       "      <td>-0.120345</td>\n",
       "      <td>-0.469060</td>\n",
       "    </tr>\n",
       "    <tr>\n",
       "      <th>3</th>\n",
       "      <td>-0.260398</td>\n",
       "      <td>-1.234067</td>\n",
       "      <td>0.984015</td>\n",
       "      <td>-0.533827</td>\n",
       "    </tr>\n",
       "    <tr>\n",
       "      <th>4</th>\n",
       "      <td>-1.535116</td>\n",
       "      <td>0.775688</td>\n",
       "      <td>1.215256</td>\n",
       "      <td>-3.389297</td>\n",
       "    </tr>\n",
       "    <tr>\n",
       "      <th>5</th>\n",
       "      <td>0.912181</td>\n",
       "      <td>0.971262</td>\n",
       "      <td>1.349575</td>\n",
       "      <td>1.754676</td>\n",
       "    </tr>\n",
       "    <tr>\n",
       "      <th>6</th>\n",
       "      <td>-2.558229</td>\n",
       "      <td>0.758910</td>\n",
       "      <td>-0.055621</td>\n",
       "      <td>0.658454</td>\n",
       "    </tr>\n",
       "    <tr>\n",
       "      <th>7</th>\n",
       "      <td>-0.940878</td>\n",
       "      <td>0.494694</td>\n",
       "      <td>0.775775</td>\n",
       "      <td>0.385695</td>\n",
       "    </tr>\n",
       "  </tbody>\n",
       "</table>\n",
       "</div>"
      ]
     },
     "execution_count": 4,
     "metadata": {},
     "output_type": "execute_result"
    }
   ],
   "source": [
    "df.dropna(how='any') #drop missing data (NaN)\n",
    "df.fillna(value=5) #fill missing data (NaN)"
   ]
  },
  {
   "cell_type": "code",
   "execution_count": 3,
   "metadata": {},
   "outputs": [
    {
     "name": "stdout",
     "output_type": "stream",
     "text": [
      "          A         B         C         D\n0 -0.260710  2.012426 -0.983352 -0.840761\n1  0.016985  0.472143 -0.452083 -0.553454\n2 -0.797740 -0.932179 -0.120345 -0.469060\n3 -0.260398 -1.234067  0.984015 -0.533827\n4 -1.535116  0.775688  1.215256 -3.389297\n5  0.912181  0.971262  1.349575  1.754676\n6 -2.558229  0.758910 -0.055621  0.658454\n7 -0.940878  0.494694  0.775775  0.385695\n"
     ]
    }
   ],
   "source": [
    "df = pd.DataFrame(np.random.randn(8, 4), columns=['A', 'B', 'C', 'D'])\n",
    "print(df)"
   ]
  },
  {
   "cell_type": "code",
   "execution_count": 7,
   "metadata": {},
   "outputs": [
    {
     "name": "stdout",
     "output_type": "stream",
     "text": [
      "     A      B         C         D\n0  foo    one -0.236809 -1.876826\n1  bar    one -1.071322 -2.496502\n2  foo    two  1.403935  2.369630\n3  bar  three -1.346662 -1.854155\n4  foo    two -0.760024  0.653604\n5  bar    two -1.365279 -0.527546\n6  foo    one  0.030875 -0.481934\n7  foo  three  0.073679  0.356013\n"
     ]
    }
   ],
   "source": [
    "s = df.iloc[3]\n",
    "\n",
    "df.append(s, ignore_index=True)\n",
    "\n",
    "print(df)"
   ]
  },
  {
   "cell_type": "code",
   "execution_count": 6,
   "metadata": {},
   "outputs": [
    {
     "name": "stdout",
     "output_type": "stream",
     "text": [
      "            C         D\nA                      \nbar -3.783262 -4.878203\nfoo  0.511656  1.020487\n"
     ]
    }
   ],
   "source": [
    "df = pd.DataFrame({'A': ['foo', 'bar', 'foo', 'bar',\n",
    "                         'foo', 'bar', 'foo', 'foo'],\n",
    "                   'B': ['one', 'one', 'two', 'three',\n",
    "                         'two', 'two', 'one', 'three'],\n",
    "                   'C': np.random.randn(8),\n",
    "                   'D': np.random.randn(8)})\n",
    "print(df.groupby('A').sum())"
   ]
  },
  {
   "cell_type": "code",
   "execution_count": 13,
   "metadata": {},
   "outputs": [
    {
     "name": "stdout",
     "output_type": "stream",
     "text": [
      "            C         D\nA                      \nbar -3.783262 -4.878203\nfoo  0.511656  1.020487\n"
     ]
    }
   ],
   "source": [
    "print(df.groupby('A').sum())"
   ]
  },
  {
   "cell_type": "code",
   "execution_count": 14,
   "metadata": {},
   "outputs": [
    {
     "name": "stdout",
     "output_type": "stream",
     "text": [
      "                  C         D\nA   B                        \nbar one   -1.071322 -2.496502\n    three -1.346662 -1.854155\n    two   -1.365279 -0.527546\nfoo one   -0.205934 -2.358760\n    three  0.073679  0.356013\n    two    0.643911  3.023234\n"
     ]
    }
   ],
   "source": [
    "print(df.groupby(['A', 'B']).sum())"
   ]
  },
  {
   "cell_type": "code",
   "execution_count": 16,
   "metadata": {},
   "outputs": [
    {
     "name": "stdout",
     "output_type": "stream",
     "text": [
      "                  C         D\nA   B                        \nbar one   -1.071322 -2.496502\n    three -1.346662 -1.854155\n    two   -1.365279 -0.527546\nfoo one   -0.205934 -2.358760\n    three  0.073679  0.356013\n    two    0.643911  3.023234\n"
     ]
    }
   ],
   "source": [
    "print(df.groupby(['A', 'B']).sum())"
   ]
  },
  {
   "cell_type": "code",
   "execution_count": 20,
   "metadata": {},
   "outputs": [
    {
     "name": "stdout",
     "output_type": "stream",
     "text": [
      "                     A         B\nfirst second                    \nbar   one     0.281499  0.373480\n      two    -0.747074  1.137719\nbaz   one    -1.298807  1.252030\n      two     1.370114 -1.038226\nfoo   one     0.429620 -0.738014\n      two     0.312051 -1.274835\nqux   one    -0.442799  0.629779\n      two    -0.995176  1.047575\n"
     ]
    }
   ],
   "source": [
    "tuples = list(zip(*[['bar', 'bar', 'baz', 'baz',\n",
    "                     'foo', 'foo', 'qux', 'qux'],\n",
    "                    ['one', 'two', 'one', 'two',\n",
    "                     'one', 'two', 'one', 'two']]))\n",
    "\n",
    "index = pd.MultiIndex.from_tuples(tuples, names=['first', 'second'])\n",
    "df = pd.DataFrame(np.random.randn(8, 2), index=index, columns=['A', 'B'])\n",
    "print(df)\n"
   ]
  },
  {
   "cell_type": "code",
   "execution_count": 22,
   "metadata": {},
   "outputs": [
    {
     "name": "stdout",
     "output_type": "stream",
     "text": [
      "first  second   \nbar    one     A    0.281499\n               B    0.373480\n       two     A   -0.747074\n               B    1.137719\nbaz    one     A   -1.298807\n               B    1.252030\n       two     A    1.370114\n               B   -1.038226\nfoo    one     A    0.429620\n               B   -0.738014\n       two     A    0.312051\n               B   -1.274835\nqux    one     A   -0.442799\n               B    0.629779\n       two     A   -0.995176\n               B    1.047575\ndtype: float64\n"
     ]
    }
   ],
   "source": [
    "print(df.stack())  # make 2d for 'A' and 'B'  unstack()\n"
   ]
  },
  {
   "cell_type": "code",
   "execution_count": 31,
   "metadata": {
    "collapsed": false
   },
   "outputs": [
    {
     "name": "stdout",
     "output_type": "stream",
     "text": [
      "2012-01-01 00:00:00     23\n2012-01-01 00:00:01    337\n2012-01-01 00:00:02    345\n2012-01-01 00:00:03    285\n2012-01-01 00:00:04    175\n2012-01-01 00:00:05      1\n2012-01-01 00:00:06     98\n2012-01-01 00:00:07    418\n2012-01-01 00:00:08    449\n2012-01-01 00:00:09    173\nFreq: S, dtype: int32\n2012-01-01 00:00:00    12942\n2012-01-01 00:01:00     9873\nFreq: T, dtype: int32\n"
     ]
    }
   ],
   "source": [
    "rng = pd.date_range('1/1/2012', periods=100, freq='S')\n",
    "\n",
    "ts = pd.Series(np.random.randint(0, 500, len(rng)), index=rng)\n",
    "\n",
    "print(ts.head(10))\n",
    "\n",
    "print(ts.resample('1Min').sum())"
   ]
  },
  {
   "cell_type": "code",
   "execution_count": 32,
   "metadata": {},
   "outputs": [
    {
     "name": "stdout",
     "output_type": "stream",
     "text": [
      "2012-03-06 00:00:00+00:00    0.867166\n2012-03-07 00:00:00+00:00    0.364536\n2012-03-08 00:00:00+00:00   -0.872213\n2012-03-09 00:00:00+00:00   -0.741548\n2012-03-10 00:00:00+00:00    2.121447\nFreq: D, dtype: float64\n"
     ]
    }
   ],
   "source": [
    "rng = pd.date_range('3/6/2012 00:00', periods=5, freq='D')\n",
    "\n",
    "ts = pd.Series(np.random.randn(len(rng)), rng)\n",
    "\n",
    "ts_utc = ts.tz_localize('UTC')\n",
    "\n",
    "print(ts_utc)"
   ]
  },
  {
   "cell_type": "code",
   "execution_count": 35,
   "metadata": {},
   "outputs": [
    {
     "data": {
      "text/plain": [
       "2012-03-05 19:00:00-05:00    0.867166\n2012-03-06 19:00:00-05:00    0.364536\n2012-03-07 19:00:00-05:00   -0.872213\n2012-03-08 19:00:00-05:00   -0.741548\n2012-03-09 19:00:00-05:00    2.121447\nFreq: D, dtype: float64"
      ]
     },
     "execution_count": 35,
     "metadata": {},
     "output_type": "execute_result"
    }
   ],
   "source": [
    "ts_utc.tz_convert('US/Eastern')"
   ]
  },
  {
   "cell_type": "code",
   "execution_count": null,
   "metadata": {},
   "outputs": [],
   "source": []
  }
 ],
 "metadata": {
  "kernelspec": {
   "display_name": "Python 2",
   "language": "python",
   "name": "python2"
  },
  "language_info": {
   "codemirror_mode": {
    "name": "ipython",
    "version": 2
   },
   "file_extension": ".py",
   "mimetype": "text/x-python",
   "name": "python",
   "nbconvert_exporter": "python",
   "pygments_lexer": "ipython2",
   "version": "2.7.6"
  }
 },
 "nbformat": 4,
 "nbformat_minor": 0
}
